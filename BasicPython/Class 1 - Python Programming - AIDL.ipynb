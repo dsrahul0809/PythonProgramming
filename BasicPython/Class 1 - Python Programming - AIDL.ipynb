{
 "cells": [
  {
   "cell_type": "code",
   "execution_count": 8,
   "id": "709ed85d",
   "metadata": {},
   "outputs": [],
   "source": [
    "#Multipurpose porgramming Language\n",
    "    #Desktop Application \n",
    "    #Web application \n",
    "    #Network Application \n",
    "    #Database Application \n",
    "    #Games \n",
    "    #Data Analytics\n",
    "    #Data Science \n",
    "    #Machine Learning \n",
    "    #Artificial Intelligence or Deep Learning\n",
    "    #IoT Application \n",
    "    #Automations "
   ]
  },
  {
   "cell_type": "code",
   "execution_count": 9,
   "id": "511b3021",
   "metadata": {},
   "outputs": [],
   "source": [
    "#Functional Programming - C progamming \n",
    "#OOP - C++ \n",
    "#Scripting Language - Perl and Shell \n",
    "#Modular Programming - Modula 3 \n",
    "#Syntax of Python - C and ABC programming "
   ]
  },
  {
   "cell_type": "code",
   "execution_count": 10,
   "id": "d21dd842",
   "metadata": {},
   "outputs": [
    {
     "name": "stdout",
     "output_type": "stream",
     "text": [
      "6 0 8 9 6 8\n",
      "0 8 9 5 6 4\n",
      "3 8 2 0 8 6\n",
      "0 9 6 0 4 8\n",
      "0 8 7 1 6 5\n",
      "4 5 7 3 4 8\n",
      "9 0 4 6 1 9\n",
      "5 8 1 7 3 0\n",
      "5 7 8 4 0 7\n",
      "6 1 0 5 9 9\n"
     ]
    }
   ],
   "source": [
    "#A code which create 6 digits OTP numbers 10 times \n",
    "from random import *\n",
    "for i in range(0,10):\n",
    "    print(randint(0,9),randint(0,9),randint(0,9),randint(0,9),randint(0,9),randint(0,9))"
   ]
  },
  {
   "cell_type": "code",
   "execution_count": 11,
   "id": "fbe585b5",
   "metadata": {},
   "outputs": [],
   "source": [
    "sales = 150.5"
   ]
  },
  {
   "cell_type": "code",
   "execution_count": 13,
   "id": "036c69d1",
   "metadata": {},
   "outputs": [
    {
     "data": {
      "text/plain": [
       "float"
      ]
     },
     "execution_count": 13,
     "metadata": {},
     "output_type": "execute_result"
    }
   ],
   "source": [
    "type(sales)"
   ]
  },
  {
   "cell_type": "code",
   "execution_count": 14,
   "id": "5053221a",
   "metadata": {},
   "outputs": [],
   "source": [
    "quantity = 10"
   ]
  },
  {
   "cell_type": "code",
   "execution_count": 15,
   "id": "21d0ec59",
   "metadata": {},
   "outputs": [
    {
     "data": {
      "text/plain": [
       "int"
      ]
     },
     "execution_count": 15,
     "metadata": {},
     "output_type": "execute_result"
    }
   ],
   "source": [
    "type(quantity)"
   ]
  },
  {
   "cell_type": "code",
   "execution_count": 16,
   "id": "6bf83931",
   "metadata": {},
   "outputs": [],
   "source": [
    "custname = 'Rahul'"
   ]
  },
  {
   "cell_type": "code",
   "execution_count": 17,
   "id": "a0dfc9ab",
   "metadata": {},
   "outputs": [
    {
     "data": {
      "text/plain": [
       "str"
      ]
     },
     "execution_count": 17,
     "metadata": {},
     "output_type": "execute_result"
    }
   ],
   "source": [
    "type(custname)"
   ]
  },
  {
   "cell_type": "code",
   "execution_count": 19,
   "id": "e6547c83",
   "metadata": {},
   "outputs": [],
   "source": [
    "output = sales>100"
   ]
  },
  {
   "cell_type": "code",
   "execution_count": 21,
   "id": "e6c0e7f9",
   "metadata": {},
   "outputs": [
    {
     "data": {
      "text/plain": [
       "bool"
      ]
     },
     "execution_count": 21,
     "metadata": {},
     "output_type": "execute_result"
    }
   ],
   "source": [
    "type(output)"
   ]
  },
  {
   "cell_type": "code",
   "execution_count": 22,
   "id": "2ab67c8b",
   "metadata": {},
   "outputs": [],
   "source": [
    "#Dynamically Typed Programming Language "
   ]
  },
  {
   "cell_type": "code",
   "execution_count": 23,
   "id": "b3609324",
   "metadata": {},
   "outputs": [],
   "source": [
    "#Identifiers\n",
    "    #Alphabets (Anywhere), _(Anywhere), numbers(Cannot be at the start)  \n",
    "sales = 10\n",
    "_sales =10\n",
    "sales_ = 10\n",
    "sa_les = 10"
   ]
  },
  {
   "cell_type": "code",
   "execution_count": 28,
   "id": "cb8a5463",
   "metadata": {},
   "outputs": [
    {
     "ename": "SyntaxError",
     "evalue": "invalid syntax (Temp/ipykernel_17276/733264514.py, line 1)",
     "output_type": "error",
     "traceback": [
      "\u001b[1;36m  File \u001b[1;32m\"C:\\Users\\Rahul\\AppData\\Local\\Temp/ipykernel_17276/733264514.py\"\u001b[1;36m, line \u001b[1;32m1\u001b[0m\n\u001b[1;33m    10sales = 10\u001b[0m\n\u001b[1;37m      ^\u001b[0m\n\u001b[1;31mSyntaxError\u001b[0m\u001b[1;31m:\u001b[0m invalid syntax\n"
     ]
    }
   ],
   "source": [
    "10sales = 10"
   ]
  },
  {
   "cell_type": "code",
   "execution_count": 29,
   "id": "751007f9",
   "metadata": {},
   "outputs": [],
   "source": [
    "sales10 = 10"
   ]
  },
  {
   "cell_type": "code",
   "execution_count": 30,
   "id": "576876f8",
   "metadata": {},
   "outputs": [
    {
     "data": {
      "text/plain": [
       "10"
      ]
     },
     "execution_count": 30,
     "metadata": {},
     "output_type": "execute_result"
    }
   ],
   "source": [
    "sales10"
   ]
  },
  {
   "cell_type": "code",
   "execution_count": 26,
   "id": "5cbcffd8",
   "metadata": {},
   "outputs": [
    {
     "data": {
      "text/plain": [
       "10"
      ]
     },
     "execution_count": 26,
     "metadata": {},
     "output_type": "execute_result"
    }
   ],
   "source": [
    "_sales"
   ]
  },
  {
   "cell_type": "code",
   "execution_count": 31,
   "id": "856661ac",
   "metadata": {},
   "outputs": [],
   "source": [
    "sa_10les = 10"
   ]
  },
  {
   "cell_type": "code",
   "execution_count": 32,
   "id": "2f338d92",
   "metadata": {},
   "outputs": [
    {
     "data": {
      "text/plain": [
       "10"
      ]
     },
     "execution_count": 32,
     "metadata": {},
     "output_type": "execute_result"
    }
   ],
   "source": [
    "sa_10les"
   ]
  },
  {
   "cell_type": "code",
   "execution_count": 33,
   "id": "a56ac265",
   "metadata": {},
   "outputs": [],
   "source": [
    "sales = 150\n",
    "SALES = 160"
   ]
  },
  {
   "cell_type": "code",
   "execution_count": 34,
   "id": "e143534e",
   "metadata": {},
   "outputs": [
    {
     "data": {
      "text/plain": [
       "150"
      ]
     },
     "execution_count": 34,
     "metadata": {},
     "output_type": "execute_result"
    }
   ],
   "source": [
    "sales"
   ]
  },
  {
   "cell_type": "code",
   "execution_count": 35,
   "id": "5648ff28",
   "metadata": {},
   "outputs": [
    {
     "data": {
      "text/plain": [
       "160"
      ]
     },
     "execution_count": 35,
     "metadata": {},
     "output_type": "execute_result"
    }
   ],
   "source": [
    "SALES"
   ]
  },
  {
   "cell_type": "code",
   "execution_count": 36,
   "id": "5ee08477",
   "metadata": {},
   "outputs": [
    {
     "data": {
      "text/plain": [
       "['False',\n",
       " 'None',\n",
       " 'True',\n",
       " '__peg_parser__',\n",
       " 'and',\n",
       " 'as',\n",
       " 'assert',\n",
       " 'async',\n",
       " 'await',\n",
       " 'break',\n",
       " 'class',\n",
       " 'continue',\n",
       " 'def',\n",
       " 'del',\n",
       " 'elif',\n",
       " 'else',\n",
       " 'except',\n",
       " 'finally',\n",
       " 'for',\n",
       " 'from',\n",
       " 'global',\n",
       " 'if',\n",
       " 'import',\n",
       " 'in',\n",
       " 'is',\n",
       " 'lambda',\n",
       " 'nonlocal',\n",
       " 'not',\n",
       " 'or',\n",
       " 'pass',\n",
       " 'raise',\n",
       " 'return',\n",
       " 'try',\n",
       " 'while',\n",
       " 'with',\n",
       " 'yield']"
      ]
     },
     "execution_count": 36,
     "metadata": {},
     "output_type": "execute_result"
    }
   ],
   "source": [
    "import keyword\n",
    "keyword.kwlist"
   ]
  },
  {
   "cell_type": "code",
   "execution_count": 38,
   "id": "12110937",
   "metadata": {},
   "outputs": [],
   "source": [
    "For  = 'Rahul'"
   ]
  },
  {
   "cell_type": "code",
   "execution_count": 39,
   "id": "502d0da0",
   "metadata": {},
   "outputs": [
    {
     "data": {
      "text/plain": [
       "'Rahul'"
      ]
     },
     "execution_count": 39,
     "metadata": {},
     "output_type": "execute_result"
    }
   ],
   "source": [
    "For"
   ]
  },
  {
   "cell_type": "code",
   "execution_count": 40,
   "id": "54b7c967",
   "metadata": {},
   "outputs": [],
   "source": [
    "#Single Values "
   ]
  },
  {
   "cell_type": "code",
   "execution_count": 41,
   "id": "bf7522e3",
   "metadata": {},
   "outputs": [],
   "source": [
    "#Python Collection Datatypes (Data Structures)\n",
    "    #List - Hetrogeneous , Mutable\n",
    "    #Tuple - Hetrogeous, Immutable\n",
    "    #Dictionary\n",
    "    #Set\n",
    "        #Frozenset"
   ]
  },
  {
   "cell_type": "code",
   "execution_count": 81,
   "id": "fdbaba64",
   "metadata": {},
   "outputs": [],
   "source": [
    "ages = [21,23,32,22,34,33,21]"
   ]
  },
  {
   "cell_type": "code",
   "execution_count": 44,
   "id": "a5d8d4ab",
   "metadata": {},
   "outputs": [
    {
     "data": {
      "text/plain": [
       "list"
      ]
     },
     "execution_count": 44,
     "metadata": {},
     "output_type": "execute_result"
    }
   ],
   "source": [
    "type(ages)"
   ]
  },
  {
   "cell_type": "code",
   "execution_count": 46,
   "id": "1b88e44c",
   "metadata": {},
   "outputs": [
    {
     "data": {
      "text/plain": [
       "7"
      ]
     },
     "execution_count": 46,
     "metadata": {},
     "output_type": "execute_result"
    }
   ],
   "source": [
    "len(ages)"
   ]
  },
  {
   "cell_type": "code",
   "execution_count": 47,
   "id": "0d57614e",
   "metadata": {},
   "outputs": [
    {
     "data": {
      "text/plain": [
       "186"
      ]
     },
     "execution_count": 47,
     "metadata": {},
     "output_type": "execute_result"
    }
   ],
   "source": [
    "sum(ages)"
   ]
  },
  {
   "cell_type": "code",
   "execution_count": 48,
   "id": "f841a752",
   "metadata": {},
   "outputs": [
    {
     "data": {
      "text/plain": [
       "21"
      ]
     },
     "execution_count": 48,
     "metadata": {},
     "output_type": "execute_result"
    }
   ],
   "source": [
    "min(ages)"
   ]
  },
  {
   "cell_type": "code",
   "execution_count": 49,
   "id": "f8cad950",
   "metadata": {},
   "outputs": [
    {
     "data": {
      "text/plain": [
       "34"
      ]
     },
     "execution_count": 49,
     "metadata": {},
     "output_type": "execute_result"
    }
   ],
   "source": [
    "max(ages)"
   ]
  },
  {
   "cell_type": "code",
   "execution_count": 50,
   "id": "35cfaac0",
   "metadata": {},
   "outputs": [
    {
     "ename": "TypeError",
     "evalue": "unsupported operand type(s) for +: 'int' and 'str'",
     "output_type": "error",
     "traceback": [
      "\u001b[1;31m---------------------------------------------------------------------------\u001b[0m",
      "\u001b[1;31mTypeError\u001b[0m                                 Traceback (most recent call last)",
      "\u001b[1;32m~\\AppData\\Local\\Temp/ipykernel_17276/397776931.py\u001b[0m in \u001b[0;36m<module>\u001b[1;34m\u001b[0m\n\u001b[0;32m      1\u001b[0m \u001b[0mlist1\u001b[0m \u001b[1;33m=\u001b[0m \u001b[1;33m[\u001b[0m\u001b[1;34m'A'\u001b[0m\u001b[1;33m,\u001b[0m\u001b[1;36m10\u001b[0m\u001b[1;33m,\u001b[0m \u001b[1;36m10.5\u001b[0m\u001b[1;33m,\u001b[0m\u001b[1;32mTrue\u001b[0m\u001b[1;33m]\u001b[0m\u001b[1;33m\u001b[0m\u001b[1;33m\u001b[0m\u001b[0m\n\u001b[1;32m----> 2\u001b[1;33m \u001b[0msum\u001b[0m\u001b[1;33m(\u001b[0m\u001b[0mlist1\u001b[0m\u001b[1;33m)\u001b[0m\u001b[1;33m\u001b[0m\u001b[1;33m\u001b[0m\u001b[0m\n\u001b[0m",
      "\u001b[1;31mTypeError\u001b[0m: unsupported operand type(s) for +: 'int' and 'str'"
     ]
    }
   ],
   "source": [
    "list1 = ['A',10, 10.5,True]\n",
    "sum(list1)"
   ]
  },
  {
   "cell_type": "code",
   "execution_count": 52,
   "id": "99cf0164",
   "metadata": {},
   "outputs": [
    {
     "data": {
      "text/plain": [
       "22"
      ]
     },
     "execution_count": 52,
     "metadata": {},
     "output_type": "execute_result"
    }
   ],
   "source": [
    "ages[3]"
   ]
  },
  {
   "cell_type": "code",
   "execution_count": 53,
   "id": "ecbdfbfb",
   "metadata": {},
   "outputs": [
    {
     "data": {
      "text/plain": [
       "[21, 23, 32, 22, 34, 33, 21]"
      ]
     },
     "execution_count": 53,
     "metadata": {},
     "output_type": "execute_result"
    }
   ],
   "source": [
    "ages"
   ]
  },
  {
   "cell_type": "code",
   "execution_count": 55,
   "id": "38416138",
   "metadata": {},
   "outputs": [
    {
     "data": {
      "text/plain": [
       "[32, 22, 34]"
      ]
     },
     "execution_count": 55,
     "metadata": {},
     "output_type": "execute_result"
    }
   ],
   "source": [
    "ages[2:5]"
   ]
  },
  {
   "cell_type": "code",
   "execution_count": 56,
   "id": "cc6a5986",
   "metadata": {},
   "outputs": [
    {
     "data": {
      "text/plain": [
       "22"
      ]
     },
     "execution_count": 56,
     "metadata": {},
     "output_type": "execute_result"
    }
   ],
   "source": [
    "ages[-4]"
   ]
  },
  {
   "cell_type": "code",
   "execution_count": 60,
   "id": "499be088",
   "metadata": {},
   "outputs": [
    {
     "data": {
      "text/plain": [
       "[21, 23, 32]"
      ]
     },
     "execution_count": 60,
     "metadata": {},
     "output_type": "execute_result"
    }
   ],
   "source": [
    "ages[0:3:1]"
   ]
  },
  {
   "cell_type": "code",
   "execution_count": 62,
   "id": "c60c51a3",
   "metadata": {},
   "outputs": [
    {
     "data": {
      "text/plain": [
       "[22, 23]"
      ]
     },
     "execution_count": 62,
     "metadata": {},
     "output_type": "execute_result"
    }
   ],
   "source": [
    "ages[3:0:-2]"
   ]
  },
  {
   "cell_type": "code",
   "execution_count": 63,
   "id": "0d1ad46e",
   "metadata": {},
   "outputs": [
    {
     "data": {
      "text/plain": [
       "[23, 32, 22, 34]"
      ]
     },
     "execution_count": 63,
     "metadata": {},
     "output_type": "execute_result"
    }
   ],
   "source": [
    "ages[-6:5]"
   ]
  },
  {
   "cell_type": "code",
   "execution_count": 65,
   "id": "d1f050fa",
   "metadata": {},
   "outputs": [
    {
     "data": {
      "text/plain": [
       "[21, 33, 34, 22, 32]"
      ]
     },
     "execution_count": 65,
     "metadata": {},
     "output_type": "execute_result"
    }
   ],
   "source": [
    "ages[6:-6:-1]"
   ]
  },
  {
   "cell_type": "code",
   "execution_count": 67,
   "id": "c697d6c4",
   "metadata": {},
   "outputs": [],
   "source": [
    "ages.append(100)"
   ]
  },
  {
   "cell_type": "code",
   "execution_count": 70,
   "id": "51f96699",
   "metadata": {},
   "outputs": [],
   "source": [
    "ages.append([101,102,103])"
   ]
  },
  {
   "cell_type": "code",
   "execution_count": 73,
   "id": "96f3fea0",
   "metadata": {},
   "outputs": [
    {
     "data": {
      "text/plain": [
       "102"
      ]
     },
     "execution_count": 73,
     "metadata": {},
     "output_type": "execute_result"
    }
   ],
   "source": [
    "ages[-1][1]"
   ]
  },
  {
   "cell_type": "code",
   "execution_count": 75,
   "id": "5dada901",
   "metadata": {},
   "outputs": [],
   "source": [
    "del ages[-1]"
   ]
  },
  {
   "cell_type": "code",
   "execution_count": 77,
   "id": "92441354",
   "metadata": {},
   "outputs": [],
   "source": [
    "ages.extend([101,102,103])"
   ]
  },
  {
   "cell_type": "code",
   "execution_count": 78,
   "id": "b4e2ae84",
   "metadata": {},
   "outputs": [
    {
     "data": {
      "text/plain": [
       "[21, 23, 32, 22, 34, 33, 21, 100, 101, 102, 103]"
      ]
     },
     "execution_count": 78,
     "metadata": {},
     "output_type": "execute_result"
    }
   ],
   "source": [
    "ages"
   ]
  },
  {
   "cell_type": "code",
   "execution_count": 79,
   "id": "7626375f",
   "metadata": {},
   "outputs": [],
   "source": [
    "ages.clear()"
   ]
  },
  {
   "cell_type": "code",
   "execution_count": 83,
   "id": "2c6b715c",
   "metadata": {},
   "outputs": [],
   "source": [
    "ages1 = ages.copy()"
   ]
  },
  {
   "cell_type": "code",
   "execution_count": 89,
   "id": "4404490b",
   "metadata": {},
   "outputs": [],
   "source": [
    "ages[0]=22"
   ]
  },
  {
   "cell_type": "code",
   "execution_count": 93,
   "id": "f6d25fe5",
   "metadata": {},
   "outputs": [
    {
     "data": {
      "text/plain": [
       "2434333673024"
      ]
     },
     "execution_count": 93,
     "metadata": {},
     "output_type": "execute_result"
    }
   ],
   "source": [
    "id(ages)"
   ]
  },
  {
   "cell_type": "code",
   "execution_count": 94,
   "id": "c200aef6",
   "metadata": {},
   "outputs": [
    {
     "data": {
      "text/plain": [
       "2434332141760"
      ]
     },
     "execution_count": 94,
     "metadata": {},
     "output_type": "execute_result"
    }
   ],
   "source": [
    "id(ages1)"
   ]
  },
  {
   "cell_type": "code",
   "execution_count": 86,
   "id": "e2d33740",
   "metadata": {},
   "outputs": [],
   "source": [
    "ages2 = ages"
   ]
  },
  {
   "cell_type": "code",
   "execution_count": 95,
   "id": "c3b841f1",
   "metadata": {},
   "outputs": [
    {
     "data": {
      "text/plain": [
       "2434333673024"
      ]
     },
     "execution_count": 95,
     "metadata": {},
     "output_type": "execute_result"
    }
   ],
   "source": [
    "id(ages2)"
   ]
  },
  {
   "cell_type": "code",
   "execution_count": 96,
   "id": "16514af8",
   "metadata": {},
   "outputs": [
    {
     "data": {
      "text/plain": [
       "2"
      ]
     },
     "execution_count": 96,
     "metadata": {},
     "output_type": "execute_result"
    }
   ],
   "source": [
    "ages.count(22)"
   ]
  },
  {
   "cell_type": "code",
   "execution_count": 97,
   "id": "10e9f868",
   "metadata": {},
   "outputs": [
    {
     "data": {
      "text/plain": [
       "[22, 23, 32, 22, 34, 33, 21]"
      ]
     },
     "execution_count": 97,
     "metadata": {},
     "output_type": "execute_result"
    }
   ],
   "source": [
    "ages"
   ]
  },
  {
   "cell_type": "code",
   "execution_count": 99,
   "id": "b6384882",
   "metadata": {},
   "outputs": [
    {
     "data": {
      "text/plain": [
       "2"
      ]
     },
     "execution_count": 99,
     "metadata": {},
     "output_type": "execute_result"
    }
   ],
   "source": [
    "ages.index(32)"
   ]
  },
  {
   "cell_type": "code",
   "execution_count": 100,
   "id": "82e084e1",
   "metadata": {},
   "outputs": [],
   "source": [
    "ages.insert(4,100)"
   ]
  },
  {
   "cell_type": "code",
   "execution_count": 102,
   "id": "30c0df27",
   "metadata": {},
   "outputs": [
    {
     "data": {
      "text/plain": [
       "21"
      ]
     },
     "execution_count": 102,
     "metadata": {},
     "output_type": "execute_result"
    }
   ],
   "source": [
    "ages.pop()"
   ]
  },
  {
   "cell_type": "code",
   "execution_count": 104,
   "id": "6cbdff64",
   "metadata": {},
   "outputs": [
    {
     "data": {
      "text/plain": [
       "22"
      ]
     },
     "execution_count": 104,
     "metadata": {},
     "output_type": "execute_result"
    }
   ],
   "source": [
    "ages.pop(3)"
   ]
  },
  {
   "cell_type": "code",
   "execution_count": 105,
   "id": "bdaac8b8",
   "metadata": {},
   "outputs": [
    {
     "data": {
      "text/plain": [
       "[22, 23, 32, 100, 34, 33]"
      ]
     },
     "execution_count": 105,
     "metadata": {},
     "output_type": "execute_result"
    }
   ],
   "source": [
    "ages"
   ]
  },
  {
   "cell_type": "code",
   "execution_count": 106,
   "id": "865d10bc",
   "metadata": {},
   "outputs": [],
   "source": [
    "ages.remove(100)"
   ]
  },
  {
   "cell_type": "code",
   "execution_count": 108,
   "id": "ebb6888b",
   "metadata": {},
   "outputs": [],
   "source": [
    "ages.reverse()"
   ]
  },
  {
   "cell_type": "code",
   "execution_count": 110,
   "id": "2ae11e9f",
   "metadata": {},
   "outputs": [],
   "source": [
    "ages.sort()"
   ]
  },
  {
   "cell_type": "code",
   "execution_count": 112,
   "id": "c4b57ddf",
   "metadata": {},
   "outputs": [],
   "source": [
    "ages.sort(reverse=True)"
   ]
  },
  {
   "cell_type": "code",
   "execution_count": 113,
   "id": "00c1a03a",
   "metadata": {},
   "outputs": [
    {
     "data": {
      "text/plain": [
       "[34, 33, 32, 23, 22]"
      ]
     },
     "execution_count": 113,
     "metadata": {},
     "output_type": "execute_result"
    }
   ],
   "source": [
    "ages"
   ]
  },
  {
   "cell_type": "code",
   "execution_count": 114,
   "id": "c68fcdcf",
   "metadata": {},
   "outputs": [],
   "source": [
    "salary = (21,23,23,21,22,33)"
   ]
  },
  {
   "cell_type": "code",
   "execution_count": 115,
   "id": "ad6efffb",
   "metadata": {},
   "outputs": [
    {
     "data": {
      "text/plain": [
       "tuple"
      ]
     },
     "execution_count": 115,
     "metadata": {},
     "output_type": "execute_result"
    }
   ],
   "source": [
    "type(salary)"
   ]
  },
  {
   "cell_type": "code",
   "execution_count": 117,
   "id": "4111b5d6",
   "metadata": {},
   "outputs": [
    {
     "ename": "TypeError",
     "evalue": "'tuple' object does not support item assignment",
     "output_type": "error",
     "traceback": [
      "\u001b[1;31m---------------------------------------------------------------------------\u001b[0m",
      "\u001b[1;31mTypeError\u001b[0m                                 Traceback (most recent call last)",
      "\u001b[1;32m~\\AppData\\Local\\Temp/ipykernel_17276/4027812429.py\u001b[0m in \u001b[0;36m<module>\u001b[1;34m\u001b[0m\n\u001b[1;32m----> 1\u001b[1;33m \u001b[0msalary\u001b[0m\u001b[1;33m[\u001b[0m\u001b[1;36m2\u001b[0m\u001b[1;33m]\u001b[0m\u001b[1;33m=\u001b[0m\u001b[1;36m43\u001b[0m\u001b[1;33m\u001b[0m\u001b[1;33m\u001b[0m\u001b[0m\n\u001b[0m",
      "\u001b[1;31mTypeError\u001b[0m: 'tuple' object does not support item assignment"
     ]
    }
   ],
   "source": [
    "salary[2]=43"
   ]
  },
  {
   "cell_type": "code",
   "execution_count": 118,
   "id": "9070985d",
   "metadata": {},
   "outputs": [
    {
     "data": {
      "text/plain": [
       "2"
      ]
     },
     "execution_count": 118,
     "metadata": {},
     "output_type": "execute_result"
    }
   ],
   "source": [
    "salary.count(23)"
   ]
  },
  {
   "cell_type": "code",
   "execution_count": 119,
   "id": "b6df0a3f",
   "metadata": {},
   "outputs": [
    {
     "data": {
      "text/plain": [
       "1"
      ]
     },
     "execution_count": 119,
     "metadata": {},
     "output_type": "execute_result"
    }
   ],
   "source": [
    "salary.index(23)"
   ]
  },
  {
   "cell_type": "code",
   "execution_count": 120,
   "id": "dafebdce",
   "metadata": {},
   "outputs": [
    {
     "data": {
      "text/plain": [
       "6"
      ]
     },
     "execution_count": 120,
     "metadata": {},
     "output_type": "execute_result"
    }
   ],
   "source": [
    "len(salary)"
   ]
  },
  {
   "cell_type": "code",
   "execution_count": 121,
   "id": "52bd951c",
   "metadata": {},
   "outputs": [
    {
     "data": {
      "text/plain": [
       "33"
      ]
     },
     "execution_count": 121,
     "metadata": {},
     "output_type": "execute_result"
    }
   ],
   "source": [
    "max(salary)"
   ]
  },
  {
   "cell_type": "code",
   "execution_count": 122,
   "id": "148cce8b",
   "metadata": {},
   "outputs": [
    {
     "data": {
      "text/plain": [
       "21"
      ]
     },
     "execution_count": 122,
     "metadata": {},
     "output_type": "execute_result"
    }
   ],
   "source": [
    "min(salary)"
   ]
  },
  {
   "cell_type": "code",
   "execution_count": 123,
   "id": "760c8ac6",
   "metadata": {},
   "outputs": [
    {
     "data": {
      "text/plain": [
       "143"
      ]
     },
     "execution_count": 123,
     "metadata": {},
     "output_type": "execute_result"
    }
   ],
   "source": [
    "sum(salary)"
   ]
  },
  {
   "cell_type": "code",
   "execution_count": 124,
   "id": "271a5d3c",
   "metadata": {},
   "outputs": [],
   "source": [
    "del salary"
   ]
  },
  {
   "cell_type": "code",
   "execution_count": 125,
   "id": "20b2ad76",
   "metadata": {},
   "outputs": [
    {
     "ename": "NameError",
     "evalue": "name 'salary' is not defined",
     "output_type": "error",
     "traceback": [
      "\u001b[1;31m---------------------------------------------------------------------------\u001b[0m",
      "\u001b[1;31mNameError\u001b[0m                                 Traceback (most recent call last)",
      "\u001b[1;32m~\\AppData\\Local\\Temp/ipykernel_17276/1275587642.py\u001b[0m in \u001b[0;36m<module>\u001b[1;34m\u001b[0m\n\u001b[1;32m----> 1\u001b[1;33m \u001b[0msalary\u001b[0m\u001b[1;33m\u001b[0m\u001b[1;33m\u001b[0m\u001b[0m\n\u001b[0m",
      "\u001b[1;31mNameError\u001b[0m: name 'salary' is not defined"
     ]
    }
   ],
   "source": [
    "salary"
   ]
  },
  {
   "cell_type": "code",
   "execution_count": 130,
   "id": "e000cd4c",
   "metadata": {},
   "outputs": [],
   "source": [
    "#Dictionaries\n",
    "stu_details = {'stu_id':[1,2,3,4,5], 'stu_name':['A','B','C','D','E'], 'stu_region':['N','S','E','W','W'] }"
   ]
  },
  {
   "cell_type": "code",
   "execution_count": 131,
   "id": "9f30829c",
   "metadata": {},
   "outputs": [
    {
     "data": {
      "text/plain": [
       "dict"
      ]
     },
     "execution_count": 131,
     "metadata": {},
     "output_type": "execute_result"
    }
   ],
   "source": [
    "type(stu_details)"
   ]
  },
  {
   "cell_type": "code",
   "execution_count": 133,
   "id": "3c20b47a",
   "metadata": {},
   "outputs": [
    {
     "data": {
      "text/plain": [
       "3"
      ]
     },
     "execution_count": 133,
     "metadata": {},
     "output_type": "execute_result"
    }
   ],
   "source": [
    "len(stu_details)"
   ]
  },
  {
   "cell_type": "code",
   "execution_count": 135,
   "id": "1d1c5751",
   "metadata": {},
   "outputs": [
    {
     "data": {
      "text/plain": [
       "['A', 'B', 'C', 'D', 'E']"
      ]
     },
     "execution_count": 135,
     "metadata": {},
     "output_type": "execute_result"
    }
   ],
   "source": [
    "stu_details.get('stu_name')"
   ]
  },
  {
   "cell_type": "code",
   "execution_count": 136,
   "id": "a79a140d",
   "metadata": {},
   "outputs": [
    {
     "data": {
      "text/plain": [
       "['A', 'B', 'C', 'D', 'E']"
      ]
     },
     "execution_count": 136,
     "metadata": {},
     "output_type": "execute_result"
    }
   ],
   "source": [
    "stu_details['stu_name']"
   ]
  },
  {
   "cell_type": "code",
   "execution_count": 137,
   "id": "9e58dfdc",
   "metadata": {},
   "outputs": [
    {
     "data": {
      "text/plain": [
       "dict_items([('stu_id', [1, 2, 3, 4, 5]), ('stu_name', ['A', 'B', 'C', 'D', 'E']), ('stu_region', ['N', 'S', 'E', 'W', 'W'])])"
      ]
     },
     "execution_count": 137,
     "metadata": {},
     "output_type": "execute_result"
    }
   ],
   "source": [
    "stu_details.items()"
   ]
  },
  {
   "cell_type": "code",
   "execution_count": 138,
   "id": "e01eb1a8",
   "metadata": {},
   "outputs": [
    {
     "data": {
      "text/plain": [
       "dict_keys(['stu_id', 'stu_name', 'stu_region'])"
      ]
     },
     "execution_count": 138,
     "metadata": {},
     "output_type": "execute_result"
    }
   ],
   "source": [
    "stu_details.keys()"
   ]
  },
  {
   "cell_type": "code",
   "execution_count": 139,
   "id": "4d58419a",
   "metadata": {},
   "outputs": [
    {
     "data": {
      "text/plain": [
       "dict_values([[1, 2, 3, 4, 5], ['A', 'B', 'C', 'D', 'E'], ['N', 'S', 'E', 'W', 'W']])"
      ]
     },
     "execution_count": 139,
     "metadata": {},
     "output_type": "execute_result"
    }
   ],
   "source": [
    "stu_details.values()"
   ]
  },
  {
   "cell_type": "code",
   "execution_count": 141,
   "id": "73f26797",
   "metadata": {},
   "outputs": [
    {
     "data": {
      "text/plain": [
       "['N', 'S', 'E', 'W', 'W']"
      ]
     },
     "execution_count": 141,
     "metadata": {},
     "output_type": "execute_result"
    }
   ],
   "source": [
    "stu_details.pop('stu_region')"
   ]
  },
  {
   "cell_type": "code",
   "execution_count": 142,
   "id": "a36ca547",
   "metadata": {},
   "outputs": [
    {
     "data": {
      "text/plain": [
       "{'stu_id': [1, 2, 3, 4, 5], 'stu_name': ['A', 'B', 'C', 'D', 'E']}"
      ]
     },
     "execution_count": 142,
     "metadata": {},
     "output_type": "execute_result"
    }
   ],
   "source": [
    "stu_details"
   ]
  },
  {
   "cell_type": "code",
   "execution_count": 144,
   "id": "48e8312c",
   "metadata": {},
   "outputs": [
    {
     "data": {
      "text/plain": [
       "('stu_name', ['A', 'B', 'C', 'D', 'E'])"
      ]
     },
     "execution_count": 144,
     "metadata": {},
     "output_type": "execute_result"
    }
   ],
   "source": [
    "stu_details.popitem()"
   ]
  },
  {
   "cell_type": "code",
   "execution_count": 146,
   "id": "a5cf06bb",
   "metadata": {},
   "outputs": [],
   "source": [
    "stu_details['stu_name'] = ['a','b','c','d','e']"
   ]
  },
  {
   "cell_type": "code",
   "execution_count": 148,
   "id": "89909209",
   "metadata": {},
   "outputs": [],
   "source": [
    "stu_details.setdefault('stu_region')"
   ]
  },
  {
   "cell_type": "code",
   "execution_count": 150,
   "id": "8a0d135d",
   "metadata": {},
   "outputs": [],
   "source": [
    "stu_details['stu_region'] = ['N','S','W','E','W']"
   ]
  },
  {
   "cell_type": "code",
   "execution_count": 151,
   "id": "d1ca6d0b",
   "metadata": {},
   "outputs": [
    {
     "data": {
      "text/plain": [
       "{'stu_id': [1, 2, 3, 4, 5],\n",
       " 'stu_name': ['a', 'b', 'c', 'd', 'e'],\n",
       " 'stu_region': ['N', 'S', 'W', 'E', 'W']}"
      ]
     },
     "execution_count": 151,
     "metadata": {},
     "output_type": "execute_result"
    }
   ],
   "source": [
    "stu_details"
   ]
  },
  {
   "cell_type": "code",
   "execution_count": 152,
   "id": "5187ce73",
   "metadata": {},
   "outputs": [],
   "source": [
    "dict1 = {1:2,3:4,5:6}\n",
    "dict2 = {1:10, 7:8}"
   ]
  },
  {
   "cell_type": "code",
   "execution_count": 153,
   "id": "6c52643a",
   "metadata": {},
   "outputs": [],
   "source": [
    "dict1.update(dict2)"
   ]
  },
  {
   "cell_type": "code",
   "execution_count": 154,
   "id": "69c29e59",
   "metadata": {},
   "outputs": [
    {
     "data": {
      "text/plain": [
       "{1: 10, 3: 4, 5: 6, 7: 8}"
      ]
     },
     "execution_count": 154,
     "metadata": {},
     "output_type": "execute_result"
    }
   ],
   "source": [
    "dict1"
   ]
  },
  {
   "cell_type": "code",
   "execution_count": 156,
   "id": "8d337ea0",
   "metadata": {},
   "outputs": [
    {
     "data": {
      "text/html": [
       "<div>\n",
       "<style scoped>\n",
       "    .dataframe tbody tr th:only-of-type {\n",
       "        vertical-align: middle;\n",
       "    }\n",
       "\n",
       "    .dataframe tbody tr th {\n",
       "        vertical-align: top;\n",
       "    }\n",
       "\n",
       "    .dataframe thead th {\n",
       "        text-align: right;\n",
       "    }\n",
       "</style>\n",
       "<table border=\"1\" class=\"dataframe\">\n",
       "  <thead>\n",
       "    <tr style=\"text-align: right;\">\n",
       "      <th></th>\n",
       "      <th>stu_id</th>\n",
       "      <th>stu_name</th>\n",
       "      <th>stu_region</th>\n",
       "    </tr>\n",
       "  </thead>\n",
       "  <tbody>\n",
       "    <tr>\n",
       "      <th>0</th>\n",
       "      <td>1</td>\n",
       "      <td>a</td>\n",
       "      <td>N</td>\n",
       "    </tr>\n",
       "    <tr>\n",
       "      <th>1</th>\n",
       "      <td>2</td>\n",
       "      <td>b</td>\n",
       "      <td>S</td>\n",
       "    </tr>\n",
       "    <tr>\n",
       "      <th>2</th>\n",
       "      <td>3</td>\n",
       "      <td>c</td>\n",
       "      <td>W</td>\n",
       "    </tr>\n",
       "    <tr>\n",
       "      <th>3</th>\n",
       "      <td>4</td>\n",
       "      <td>d</td>\n",
       "      <td>E</td>\n",
       "    </tr>\n",
       "    <tr>\n",
       "      <th>4</th>\n",
       "      <td>5</td>\n",
       "      <td>e</td>\n",
       "      <td>W</td>\n",
       "    </tr>\n",
       "  </tbody>\n",
       "</table>\n",
       "</div>"
      ],
      "text/plain": [
       "   stu_id stu_name stu_region\n",
       "0       1        a          N\n",
       "1       2        b          S\n",
       "2       3        c          W\n",
       "3       4        d          E\n",
       "4       5        e          W"
      ]
     },
     "execution_count": 156,
     "metadata": {},
     "output_type": "execute_result"
    }
   ],
   "source": [
    "import pandas as pd\n",
    "pd.DataFrame(stu_details)"
   ]
  },
  {
   "cell_type": "code",
   "execution_count": 176,
   "id": "53d084c1",
   "metadata": {},
   "outputs": [],
   "source": [
    "#Sets\n",
    "set1 = {1,2,3,3,3,3,4,5,6,6,6,7,8,8,8,9,9}"
   ]
  },
  {
   "cell_type": "code",
   "execution_count": 158,
   "id": "4cdf1b80",
   "metadata": {},
   "outputs": [
    {
     "data": {
      "text/plain": [
       "{1, 2, 3, 4, 5, 6, 7, 8, 9}"
      ]
     },
     "execution_count": 158,
     "metadata": {},
     "output_type": "execute_result"
    }
   ],
   "source": [
    "set1"
   ]
  },
  {
   "cell_type": "code",
   "execution_count": 159,
   "id": "5209f087",
   "metadata": {},
   "outputs": [
    {
     "ename": "TypeError",
     "evalue": "'set' object is not subscriptable",
     "output_type": "error",
     "traceback": [
      "\u001b[1;31m---------------------------------------------------------------------------\u001b[0m",
      "\u001b[1;31mTypeError\u001b[0m                                 Traceback (most recent call last)",
      "\u001b[1;32m~\\AppData\\Local\\Temp/ipykernel_17276/2166654704.py\u001b[0m in \u001b[0;36m<module>\u001b[1;34m\u001b[0m\n\u001b[1;32m----> 1\u001b[1;33m \u001b[0mset1\u001b[0m\u001b[1;33m[\u001b[0m\u001b[1;36m0\u001b[0m\u001b[1;33m]\u001b[0m\u001b[1;33m\u001b[0m\u001b[1;33m\u001b[0m\u001b[0m\n\u001b[0m",
      "\u001b[1;31mTypeError\u001b[0m: 'set' object is not subscriptable"
     ]
    }
   ],
   "source": [
    "set1[0]"
   ]
  },
  {
   "cell_type": "code",
   "execution_count": 168,
   "id": "230ebc8d",
   "metadata": {},
   "outputs": [
    {
     "data": {
      "text/plain": [
       "9"
      ]
     },
     "execution_count": 168,
     "metadata": {},
     "output_type": "execute_result"
    }
   ],
   "source": [
    "len(set1)"
   ]
  },
  {
   "cell_type": "code",
   "execution_count": 162,
   "id": "e5d1d4d1",
   "metadata": {},
   "outputs": [
    {
     "data": {
      "text/plain": [
       "1"
      ]
     },
     "execution_count": 162,
     "metadata": {},
     "output_type": "execute_result"
    }
   ],
   "source": [
    "min(set1)"
   ]
  },
  {
   "cell_type": "code",
   "execution_count": 163,
   "id": "4cf76810",
   "metadata": {},
   "outputs": [
    {
     "data": {
      "text/plain": [
       "9"
      ]
     },
     "execution_count": 163,
     "metadata": {},
     "output_type": "execute_result"
    }
   ],
   "source": [
    "max(set1)"
   ]
  },
  {
   "cell_type": "code",
   "execution_count": 164,
   "id": "683db356",
   "metadata": {},
   "outputs": [
    {
     "data": {
      "text/plain": [
       "45"
      ]
     },
     "execution_count": 164,
     "metadata": {},
     "output_type": "execute_result"
    }
   ],
   "source": [
    "sum(set1)"
   ]
  },
  {
   "cell_type": "code",
   "execution_count": 165,
   "id": "b1ecd290",
   "metadata": {},
   "outputs": [],
   "source": [
    "del set1"
   ]
  },
  {
   "cell_type": "code",
   "execution_count": 171,
   "id": "7be0828f",
   "metadata": {},
   "outputs": [
    {
     "ename": "TypeError",
     "evalue": "unhashable type: 'list'",
     "output_type": "error",
     "traceback": [
      "\u001b[1;31m---------------------------------------------------------------------------\u001b[0m",
      "\u001b[1;31mTypeError\u001b[0m                                 Traceback (most recent call last)",
      "\u001b[1;32m~\\AppData\\Local\\Temp/ipykernel_17276/12228114.py\u001b[0m in \u001b[0;36m<module>\u001b[1;34m\u001b[0m\n\u001b[1;32m----> 1\u001b[1;33m \u001b[0mset1\u001b[0m\u001b[1;33m.\u001b[0m\u001b[0madd\u001b[0m\u001b[1;33m(\u001b[0m\u001b[1;33m[\u001b[0m\u001b[1;36m10\u001b[0m\u001b[1;33m,\u001b[0m\u001b[1;36m11\u001b[0m\u001b[1;33m,\u001b[0m\u001b[1;36m12\u001b[0m\u001b[1;33m]\u001b[0m\u001b[1;33m)\u001b[0m\u001b[1;33m\u001b[0m\u001b[1;33m\u001b[0m\u001b[0m\n\u001b[0m",
      "\u001b[1;31mTypeError\u001b[0m: unhashable type: 'list'"
     ]
    }
   ],
   "source": [
    "set1.add([10,11,12])"
   ]
  },
  {
   "cell_type": "code",
   "execution_count": 172,
   "id": "c16afb50",
   "metadata": {},
   "outputs": [],
   "source": [
    "set1.update([11,12,13])"
   ]
  },
  {
   "cell_type": "code",
   "execution_count": 174,
   "id": "646b31f0",
   "metadata": {},
   "outputs": [],
   "source": [
    "set1.clear()"
   ]
  },
  {
   "cell_type": "code",
   "execution_count": 205,
   "id": "1fb5cf34",
   "metadata": {},
   "outputs": [],
   "source": [
    "set1.discard(9)"
   ]
  },
  {
   "cell_type": "code",
   "execution_count": 206,
   "id": "17662eae",
   "metadata": {},
   "outputs": [
    {
     "data": {
      "text/plain": [
       "{1, 2, 3, 4, 5, 6, 7}"
      ]
     },
     "execution_count": 206,
     "metadata": {},
     "output_type": "execute_result"
    }
   ],
   "source": [
    "set1"
   ]
  },
  {
   "cell_type": "code",
   "execution_count": 207,
   "id": "8bb22b59",
   "metadata": {},
   "outputs": [
    {
     "ename": "KeyError",
     "evalue": "8",
     "output_type": "error",
     "traceback": [
      "\u001b[1;31m---------------------------------------------------------------------------\u001b[0m",
      "\u001b[1;31mKeyError\u001b[0m                                  Traceback (most recent call last)",
      "\u001b[1;32m~\\AppData\\Local\\Temp/ipykernel_17276/2998670249.py\u001b[0m in \u001b[0;36m<module>\u001b[1;34m\u001b[0m\n\u001b[1;32m----> 1\u001b[1;33m \u001b[0mset1\u001b[0m\u001b[1;33m.\u001b[0m\u001b[0mremove\u001b[0m\u001b[1;33m(\u001b[0m\u001b[1;36m8\u001b[0m\u001b[1;33m)\u001b[0m\u001b[1;33m\u001b[0m\u001b[1;33m\u001b[0m\u001b[0m\n\u001b[0m",
      "\u001b[1;31mKeyError\u001b[0m: 8"
     ]
    }
   ],
   "source": [
    "set1.remove(8)"
   ]
  },
  {
   "cell_type": "code",
   "execution_count": 209,
   "id": "635be54a",
   "metadata": {},
   "outputs": [
    {
     "data": {
      "text/plain": [
       "1"
      ]
     },
     "execution_count": 209,
     "metadata": {},
     "output_type": "execute_result"
    }
   ],
   "source": [
    "set1.pop()"
   ]
  },
  {
   "cell_type": "code",
   "execution_count": 211,
   "id": "b3931a7e",
   "metadata": {},
   "outputs": [
    {
     "data": {
      "text/plain": [
       "{2, 3, 4, 5, 6, 7}"
      ]
     },
     "execution_count": 211,
     "metadata": {},
     "output_type": "execute_result"
    }
   ],
   "source": [
    "set1"
   ]
  },
  {
   "cell_type": "code",
   "execution_count": 221,
   "id": "c406e98d",
   "metadata": {},
   "outputs": [],
   "source": [
    "set1 = {1,2,3,4,5,6}\n",
    "set2 = {4,5,6}\n",
    "set3 = {5,6,7,8}\n",
    "set4 = {9,10,11,12}"
   ]
  },
  {
   "cell_type": "code",
   "execution_count": 213,
   "id": "f7e8142b",
   "metadata": {},
   "outputs": [
    {
     "data": {
      "text/plain": [
       "{1, 2, 3, 4}"
      ]
     },
     "execution_count": 213,
     "metadata": {},
     "output_type": "execute_result"
    }
   ],
   "source": [
    "set1.difference(set3)"
   ]
  },
  {
   "cell_type": "code",
   "execution_count": 216,
   "id": "625a4b63",
   "metadata": {},
   "outputs": [
    {
     "data": {
      "text/plain": [
       "{1, 2, 3, 4}"
      ]
     },
     "execution_count": 216,
     "metadata": {},
     "output_type": "execute_result"
    }
   ],
   "source": [
    "set1.difference_update(set3)\n",
    "set1"
   ]
  },
  {
   "cell_type": "code",
   "execution_count": 214,
   "id": "2097713d",
   "metadata": {},
   "outputs": [
    {
     "data": {
      "text/plain": [
       "{1, 2, 3, 4, 7, 8}"
      ]
     },
     "execution_count": 214,
     "metadata": {},
     "output_type": "execute_result"
    }
   ],
   "source": [
    "set1.symmetric_difference(set3)"
   ]
  },
  {
   "cell_type": "code",
   "execution_count": 218,
   "id": "0af82262",
   "metadata": {},
   "outputs": [
    {
     "data": {
      "text/plain": [
       "{1, 2, 3, 4, 7, 8}"
      ]
     },
     "execution_count": 218,
     "metadata": {},
     "output_type": "execute_result"
    }
   ],
   "source": [
    "set1.symmetric_difference_update(set3)\n",
    "set1"
   ]
  },
  {
   "cell_type": "code",
   "execution_count": 215,
   "id": "a93abd58",
   "metadata": {},
   "outputs": [
    {
     "data": {
      "text/plain": [
       "{5, 6}"
      ]
     },
     "execution_count": 215,
     "metadata": {},
     "output_type": "execute_result"
    }
   ],
   "source": [
    "set1.intersection(set3)"
   ]
  },
  {
   "cell_type": "code",
   "execution_count": 220,
   "id": "122af78b",
   "metadata": {},
   "outputs": [
    {
     "data": {
      "text/plain": [
       "{5, 6}"
      ]
     },
     "execution_count": 220,
     "metadata": {},
     "output_type": "execute_result"
    }
   ],
   "source": [
    "set1.intersection_update(set3)\n",
    "set1"
   ]
  },
  {
   "cell_type": "code",
   "execution_count": 222,
   "id": "fc90a856",
   "metadata": {},
   "outputs": [],
   "source": [
    "set1 = {1,2,3,4,5,6}\n",
    "set2 = {4,5,6}\n",
    "set3 = {5,6,7,8}\n",
    "set4 = {9,10,11,12}"
   ]
  },
  {
   "cell_type": "code",
   "execution_count": 224,
   "id": "35e65cbc",
   "metadata": {},
   "outputs": [
    {
     "data": {
      "text/plain": [
       "{1, 2, 3, 4, 5, 6, 7, 8}"
      ]
     },
     "execution_count": 224,
     "metadata": {},
     "output_type": "execute_result"
    }
   ],
   "source": [
    "set1.union(set3)"
   ]
  },
  {
   "cell_type": "code",
   "execution_count": 225,
   "id": "30fd9da1",
   "metadata": {},
   "outputs": [
    {
     "data": {
      "text/plain": [
       "True"
      ]
     },
     "execution_count": 225,
     "metadata": {},
     "output_type": "execute_result"
    }
   ],
   "source": [
    "set1.isdisjoint(set4)"
   ]
  },
  {
   "cell_type": "code",
   "execution_count": 226,
   "id": "e9d19e8a",
   "metadata": {},
   "outputs": [
    {
     "data": {
      "text/plain": [
       "True"
      ]
     },
     "execution_count": 226,
     "metadata": {},
     "output_type": "execute_result"
    }
   ],
   "source": [
    "set1.issuperset(set2)"
   ]
  },
  {
   "cell_type": "code",
   "execution_count": 227,
   "id": "40687423",
   "metadata": {},
   "outputs": [
    {
     "data": {
      "text/plain": [
       "True"
      ]
     },
     "execution_count": 227,
     "metadata": {},
     "output_type": "execute_result"
    }
   ],
   "source": [
    "set2.issubset(set1)"
   ]
  },
  {
   "cell_type": "code",
   "execution_count": 229,
   "id": "df08c401",
   "metadata": {},
   "outputs": [],
   "source": [
    "fsset = frozenset(set1)"
   ]
  },
  {
   "cell_type": "code",
   "execution_count": 231,
   "id": "33e8edb6",
   "metadata": {},
   "outputs": [
    {
     "data": {
      "text/plain": [
       "frozenset({1, 2, 3, 4, 5, 6})"
      ]
     },
     "execution_count": 231,
     "metadata": {},
     "output_type": "execute_result"
    }
   ],
   "source": [
    "fsset"
   ]
  },
  {
   "cell_type": "code",
   "execution_count": 232,
   "id": "269e8895",
   "metadata": {},
   "outputs": [],
   "source": [
    "#Operators in Python\n",
    "    #Arithmatic \n",
    "    #Relational or Comparison \n",
    "    #Equality\n",
    "    #Assignment \n",
    "    #Ternary\n",
    "    #Special "
   ]
  },
  {
   "cell_type": "code",
   "execution_count": 234,
   "id": "2bfeb33d",
   "metadata": {},
   "outputs": [
    {
     "name": "stdout",
     "output_type": "stream",
     "text": [
      "a+b: 13\n",
      "a-b: 7\n",
      "a*b: 30\n",
      "a/b: 3.3333333333333335\n",
      "a%b: 1\n",
      "a//b: 3\n",
      "a**b: 1000\n"
     ]
    }
   ],
   "source": [
    "#Arithmatic\n",
    "\n",
    "    #+ - Addition\n",
    "    #- - Subtraction\n",
    "    #* - Multiplication\n",
    "    #/ - Division\n",
    "    #% - Modulo\n",
    "    #// - Floor Div\n",
    "    #** - Power\n",
    "    \n",
    "a = 10 \n",
    "b = 3 \n",
    "print('a+b:', a+b)\n",
    "print('a-b:', a-b)\n",
    "print('a*b:', a*b)\n",
    "print('a/b:', a/b)\n",
    "print('a%b:', a%b)\n",
    "print('a//b:', a//b)\n",
    "print('a**b:', a**b)"
   ]
  },
  {
   "cell_type": "code",
   "execution_count": 238,
   "id": "74c86e80",
   "metadata": {},
   "outputs": [
    {
     "name": "stdout",
     "output_type": "stream",
     "text": [
      "a<b: False\n",
      "a<=b: False\n",
      "a>b: True\n",
      "a>=b: True\n"
     ]
    }
   ],
   "source": [
    "#Relational \n",
    "a = 10 \n",
    "b = 3\n",
    "print('a<b:', a<b)\n",
    "print('a<=b:', a<=b)\n",
    "print('a>b:', a>b)\n",
    "print('a>=b:', a>=b)"
   ]
  },
  {
   "cell_type": "code",
   "execution_count": 244,
   "id": "1d0aa096",
   "metadata": {},
   "outputs": [
    {
     "name": "stdout",
     "output_type": "stream",
     "text": [
      "a==b: False\n",
      "a!=b: True\n"
     ]
    }
   ],
   "source": [
    "#Equality \n",
    "a = 10 \n",
    "b = 3 \n",
    "print('a==b:',a==b)\n",
    "print('a!=b:',a!=b)"
   ]
  },
  {
   "cell_type": "code",
   "execution_count": 246,
   "id": "63fa82a1",
   "metadata": {},
   "outputs": [
    {
     "data": {
      "text/plain": [
       "-20"
      ]
     },
     "execution_count": 246,
     "metadata": {},
     "output_type": "execute_result"
    }
   ],
   "source": [
    "#Assignment\n",
    "a = 10 \n",
    "a+=20\n",
    "a-=50\n",
    "a"
   ]
  },
  {
   "cell_type": "code",
   "execution_count": 247,
   "id": "57ed7a46",
   "metadata": {},
   "outputs": [
    {
     "data": {
      "text/plain": [
       "7"
      ]
     },
     "execution_count": 247,
     "metadata": {},
     "output_type": "execute_result"
    }
   ],
   "source": [
    "a = 7\n",
    "b = 4\n",
    "x = a if a>b else b\n",
    "x"
   ]
  },
  {
   "cell_type": "code",
   "execution_count": 248,
   "id": "afb3c551",
   "metadata": {},
   "outputs": [
    {
     "data": {
      "text/plain": [
       "5"
      ]
     },
     "execution_count": 248,
     "metadata": {},
     "output_type": "execute_result"
    }
   ],
   "source": [
    "a = 7 \n",
    "b = 4 \n",
    "c = 5\n",
    "x = a if a>b>c else b if b>c else c\n",
    "x"
   ]
  },
  {
   "cell_type": "code",
   "execution_count": 249,
   "id": "156c621d",
   "metadata": {},
   "outputs": [],
   "source": [
    "#Special Operators\n",
    "    #Identity \n",
    "        #is \n",
    "        #is not\n",
    "\n",
    "    #Membership \n",
    "        #in\n",
    "        #not in"
   ]
  },
  {
   "cell_type": "code",
   "execution_count": 257,
   "id": "c3e7b745",
   "metadata": {},
   "outputs": [
    {
     "name": "stdout",
     "output_type": "stream",
     "text": [
      "2434217044368\n",
      "2434217044368\n"
     ]
    }
   ],
   "source": [
    "a = 256\n",
    "b = 256\n",
    "print(id(a))\n",
    "print(id(b))"
   ]
  },
  {
   "cell_type": "code",
   "execution_count": 258,
   "id": "de719c5a",
   "metadata": {},
   "outputs": [
    {
     "data": {
      "text/plain": [
       "True"
      ]
     },
     "execution_count": 258,
     "metadata": {},
     "output_type": "execute_result"
    }
   ],
   "source": [
    "a is b"
   ]
  },
  {
   "cell_type": "code",
   "execution_count": 259,
   "id": "1e232479",
   "metadata": {},
   "outputs": [
    {
     "data": {
      "text/plain": [
       "True"
      ]
     },
     "execution_count": 259,
     "metadata": {},
     "output_type": "execute_result"
    }
   ],
   "source": [
    "list1 = [1,2,3,4,5]\n",
    "5 in list1"
   ]
  },
  {
   "cell_type": "code",
   "execution_count": 260,
   "id": "c521490f",
   "metadata": {},
   "outputs": [],
   "source": [
    "#Control statements \n",
    "    #if and else\n",
    "    #for \n",
    "    #while"
   ]
  },
  {
   "cell_type": "code",
   "execution_count": 269,
   "id": "5ecaa5ed",
   "metadata": {},
   "outputs": [
    {
     "name": "stdout",
     "output_type": "stream",
     "text": [
      "You passed the exam\n",
      "Hello\n"
     ]
    }
   ],
   "source": [
    "marks = 45\n",
    "if marks<=35:\n",
    "    print('You failed the exam')\n",
    "    print('Hi')\n",
    "else:\n",
    "    print('You passed the exam')\n",
    "print('Hello')    "
   ]
  },
  {
   "cell_type": "code",
   "execution_count": 272,
   "id": "e77b09f6",
   "metadata": {},
   "outputs": [
    {
     "name": "stdout",
     "output_type": "stream",
     "text": [
      "You got excellent marks\n"
     ]
    }
   ],
   "source": [
    "marks = 65\n",
    "if marks<=35:\n",
    "    print('You are failed the exam')\n",
    "elif marks>35 and marks<=60:\n",
    "    print('You got avg marks')\n",
    "else: \n",
    "    print('You got excellent marks')"
   ]
  },
  {
   "cell_type": "code",
   "execution_count": 277,
   "id": "66956fe2",
   "metadata": {},
   "outputs": [
    {
     "name": "stdout",
     "output_type": "stream",
     "text": [
      "216.0\n",
      "116.0\n",
      "121.0\n",
      "56.0\n"
     ]
    }
   ],
   "source": [
    "#For loops\n",
    "sales = [432,232,242,112]\n",
    "for i in sales:\n",
    "    print(i*0.5)"
   ]
  },
  {
   "cell_type": "code",
   "execution_count": 279,
   "id": "01d78568",
   "metadata": {},
   "outputs": [],
   "source": [
    "sales = [3432,1234,3224,2322]\n",
    "profit = [432,222,121,223]"
   ]
  },
  {
   "cell_type": "code",
   "execution_count": 284,
   "id": "78421c2f",
   "metadata": {},
   "outputs": [
    {
     "name": "stdout",
     "output_type": "stream",
     "text": [
      "0.1258741258741259\n",
      "0.17990275526742303\n",
      "0.03753101736972705\n",
      "0.09603789836347976\n"
     ]
    }
   ],
   "source": [
    "for i in range(0,len(sales)):\n",
    "    print(profit[i]/sales[i])"
   ]
  },
  {
   "cell_type": "code",
   "execution_count": 282,
   "id": "5ef203ef",
   "metadata": {},
   "outputs": [
    {
     "data": {
      "text/plain": [
       "[0, 1, 2, 3]"
      ]
     },
     "execution_count": 282,
     "metadata": {},
     "output_type": "execute_result"
    }
   ],
   "source": [
    "list(range(0,4))"
   ]
  },
  {
   "cell_type": "code",
   "execution_count": 288,
   "id": "f74e0356",
   "metadata": {},
   "outputs": [
    {
     "name": "stdout",
     "output_type": "stream",
     "text": [
      "Total coupouns left are:  5\n",
      "Total coupouns left are:  4\n",
      "Total coupouns left are:  3\n",
      "Total coupouns left are:  2\n",
      "Total coupouns left are:  1\n",
      "No coupons left\n"
     ]
    }
   ],
   "source": [
    "#while loop\n",
    "coupouns = 5\n",
    "utilized = 0\n",
    "\n",
    "while utilized<coupouns:\n",
    "    print('Total coupouns left are: ', coupouns-utilized)\n",
    "    utilized=utilized+1\n",
    "print('No coupons left')"
   ]
  },
  {
   "cell_type": "code",
   "execution_count": 294,
   "id": "d82af347",
   "metadata": {},
   "outputs": [
    {
     "name": "stdout",
     "output_type": "stream",
     "text": [
      "120\n"
     ]
    }
   ],
   "source": [
    "number = 5\n",
    "if number<0:\n",
    "    print('There is no factorial of the negative number')\n",
    "else:\n",
    "    result = 1 \n",
    "    while number>=1: \n",
    "        result = result*number\n",
    "        number=number-1\n",
    "    print(result)"
   ]
  },
  {
   "cell_type": "code",
   "execution_count": 309,
   "id": "d3ead87f",
   "metadata": {},
   "outputs": [],
   "source": [
    "#User Defined Functions in Python\n",
    "\n",
    "def calculator(num1,num2,operation='all'):\n",
    "    if operation=='sum':\n",
    "        print('num1+num2: ', num1+num2)\n",
    "    elif operation=='sub':\n",
    "        print('num1-num2: ', num1-num2)\n",
    "    elif operation=='mul':\n",
    "        print('num1*num2: ', num1*num2)\n",
    "    elif operation=='div':\n",
    "        print('num1/num2: ', num1/num2)\n",
    "    elif operation=='all':\n",
    "        print('num1+num2: ', num1+num2)\n",
    "        print('num1-num2: ', num1-num2)\n",
    "        print('num1*num2: ', num1*num2)\n",
    "        print('num1/num2: ', num1/num2)\n",
    "    else:\n",
    "        print('Enter the correct options')"
   ]
  },
  {
   "cell_type": "code",
   "execution_count": 311,
   "id": "35bb0bd6",
   "metadata": {},
   "outputs": [
    {
     "name": "stdout",
     "output_type": "stream",
     "text": [
      "num1+num2:  13\n",
      "num1-num2:  7\n",
      "num1*num2:  30\n",
      "num1/num2:  3.3333333333333335\n"
     ]
    }
   ],
   "source": [
    "output = calculator(10,3)"
   ]
  },
  {
   "cell_type": "code",
   "execution_count": 313,
   "id": "97cbb8d0",
   "metadata": {},
   "outputs": [
    {
     "data": {
      "text/plain": [
       "NoneType"
      ]
     },
     "execution_count": 313,
     "metadata": {},
     "output_type": "execute_result"
    }
   ],
   "source": [
    "type(output)"
   ]
  },
  {
   "cell_type": "code",
   "execution_count": 320,
   "id": "1cbed389",
   "metadata": {},
   "outputs": [],
   "source": [
    "#User Defined Functions in Python\n",
    "\n",
    "def calculator(num1,num2,operation='all'):\n",
    "    if operation=='sum':\n",
    "        return('num1+num2: ', num1+num2)\n",
    "    elif operation=='sub':\n",
    "        return('num1-num2: ', num1-num2)\n",
    "    elif operation=='mul':\n",
    "        return('num1*num2: ', num1*num2)\n",
    "    elif operation=='div':\n",
    "        return('num1/num2: ', num1/num2)\n",
    "    elif operation=='all':\n",
    "        return{'num1+num2: ': num1+num2, 'num1-num2:': num1-num2,'num1*num2:': num1*num2,'num1/num2:': num1/num2  }\n",
    "    else:\n",
    "        return('Enter the correct options')"
   ]
  },
  {
   "cell_type": "code",
   "execution_count": 321,
   "id": "9616d5c1",
   "metadata": {},
   "outputs": [],
   "source": [
    "output = calculator(10,3)"
   ]
  },
  {
   "cell_type": "code",
   "execution_count": 322,
   "id": "8fae4854",
   "metadata": {},
   "outputs": [
    {
     "data": {
      "text/plain": [
       "{'num1+num2: ': 13,\n",
       " 'num1-num2:': 7,\n",
       " 'num1*num2:': 30,\n",
       " 'num1/num2:': 3.3333333333333335}"
      ]
     },
     "execution_count": 322,
     "metadata": {},
     "output_type": "execute_result"
    }
   ],
   "source": [
    "output"
   ]
  },
  {
   "cell_type": "code",
   "execution_count": 323,
   "id": "c663c54e",
   "metadata": {},
   "outputs": [],
   "source": [
    "#Variable length arguement \n",
    "def addition(*args):\n",
    "    result = 0 \n",
    "    for i in args:\n",
    "        result = result + i \n",
    "    print(result)"
   ]
  },
  {
   "cell_type": "code",
   "execution_count": 324,
   "id": "51fc3cb6",
   "metadata": {},
   "outputs": [
    {
     "name": "stdout",
     "output_type": "stream",
     "text": [
      "150\n"
     ]
    }
   ],
   "source": [
    "addition(10,20,30,40,50)"
   ]
  },
  {
   "cell_type": "code",
   "execution_count": 326,
   "id": "936ee0b2",
   "metadata": {},
   "outputs": [
    {
     "name": "stdout",
     "output_type": "stream",
     "text": [
      "F1: 1000\n",
      "F2: 1000\n"
     ]
    }
   ],
   "source": [
    "p = 10 \n",
    "def f1():\n",
    "    global p\n",
    "    p = 1000\n",
    "    print('F1:', p)\n",
    "    \n",
    "f1()\n",
    "\n",
    "def f2():\n",
    "    print('F2:', p)\n",
    "    \n",
    "f2()"
   ]
  },
  {
   "cell_type": "code",
   "execution_count": 327,
   "id": "c05c4f10",
   "metadata": {},
   "outputs": [
    {
     "data": {
      "text/plain": [
       "1000"
      ]
     },
     "execution_count": 327,
     "metadata": {},
     "output_type": "execute_result"
    }
   ],
   "source": [
    "p"
   ]
  },
  {
   "cell_type": "code",
   "execution_count": 328,
   "id": "958a74ab",
   "metadata": {},
   "outputs": [],
   "source": [
    "#Numpy"
   ]
  },
  {
   "cell_type": "code",
   "execution_count": 329,
   "id": "d2b98340",
   "metadata": {},
   "outputs": [],
   "source": [
    "import numpy as np"
   ]
  },
  {
   "cell_type": "code",
   "execution_count": 330,
   "id": "a7c5d68b",
   "metadata": {},
   "outputs": [
    {
     "data": {
      "text/plain": [
       "'1.23.0'"
      ]
     },
     "execution_count": 330,
     "metadata": {},
     "output_type": "execute_result"
    }
   ],
   "source": [
    "np.__version__"
   ]
  },
  {
   "cell_type": "code",
   "execution_count": 357,
   "id": "5299a58a",
   "metadata": {},
   "outputs": [],
   "source": [
    "#Array\n",
    "list1 = [True]"
   ]
  },
  {
   "cell_type": "code",
   "execution_count": 333,
   "id": "a3a7e284",
   "metadata": {},
   "outputs": [
    {
     "data": {
      "text/plain": [
       "list"
      ]
     },
     "execution_count": 333,
     "metadata": {},
     "output_type": "execute_result"
    }
   ],
   "source": [
    "type(list1)"
   ]
  },
  {
   "cell_type": "code",
   "execution_count": 338,
   "id": "a67abc2c",
   "metadata": {},
   "outputs": [
    {
     "data": {
      "text/plain": [
       "bool"
      ]
     },
     "execution_count": 338,
     "metadata": {},
     "output_type": "execute_result"
    }
   ],
   "source": [
    "type(list1[3])"
   ]
  },
  {
   "cell_type": "code",
   "execution_count": 358,
   "id": "8ca8f07f",
   "metadata": {},
   "outputs": [],
   "source": [
    "array1 = np.array(list1)"
   ]
  },
  {
   "cell_type": "code",
   "execution_count": 359,
   "id": "2480ea59",
   "metadata": {},
   "outputs": [
    {
     "data": {
      "text/plain": [
       "array([ True])"
      ]
     },
     "execution_count": 359,
     "metadata": {},
     "output_type": "execute_result"
    }
   ],
   "source": [
    "array1"
   ]
  },
  {
   "cell_type": "code",
   "execution_count": 353,
   "id": "ebf39b2d",
   "metadata": {},
   "outputs": [
    {
     "data": {
      "text/plain": [
       "numpy.float64"
      ]
     },
     "execution_count": 353,
     "metadata": {},
     "output_type": "execute_result"
    }
   ],
   "source": [
    "type(array1[2])"
   ]
  },
  {
   "cell_type": "code",
   "execution_count": 362,
   "id": "b90e6b5d",
   "metadata": {},
   "outputs": [
    {
     "name": "stdout",
     "output_type": "stream",
     "text": [
      "0.1258741258741259\n",
      "0.17990275526742303\n",
      "0.03753101736972705\n",
      "0.09603789836347976\n"
     ]
    }
   ],
   "source": [
    "for i in range(0,len(sales)):\n",
    "    print(profit[i]/sales[i])"
   ]
  },
  {
   "cell_type": "code",
   "execution_count": 363,
   "id": "602f4ff0",
   "metadata": {},
   "outputs": [],
   "source": [
    "sales_array = np.array(sales)\n",
    "profit_array = np.array(profit)"
   ]
  },
  {
   "cell_type": "code",
   "execution_count": 364,
   "id": "f3dc0cb9",
   "metadata": {},
   "outputs": [
    {
     "data": {
      "text/plain": [
       "array([3432, 1234, 3224, 2322])"
      ]
     },
     "execution_count": 364,
     "metadata": {},
     "output_type": "execute_result"
    }
   ],
   "source": [
    "sales_array"
   ]
  },
  {
   "cell_type": "code",
   "execution_count": 376,
   "id": "90129be5",
   "metadata": {},
   "outputs": [
    {
     "data": {
      "text/plain": [
       "numpy.ndarray"
      ]
     },
     "execution_count": 376,
     "metadata": {},
     "output_type": "execute_result"
    }
   ],
   "source": [
    "type(profit_array)"
   ]
  },
  {
   "cell_type": "code",
   "execution_count": 366,
   "id": "2ba9c1d7",
   "metadata": {},
   "outputs": [
    {
     "data": {
      "text/plain": [
       "array([0.12587413, 0.17990276, 0.03753102, 0.0960379 ])"
      ]
     },
     "execution_count": 366,
     "metadata": {},
     "output_type": "execute_result"
    }
   ],
   "source": [
    "profit_array/sales_array"
   ]
  },
  {
   "cell_type": "code",
   "execution_count": 371,
   "id": "00ab1d4c",
   "metadata": {},
   "outputs": [],
   "source": [
    "sales_us = [3245,3322,1221,3121]\n",
    "sales_eu = [4322,1212,3232,1211]\n",
    "sales_jp = [5422,1211,1212,2323]\n",
    "\n",
    "profit_us = [421,121,323,121]\n",
    "profit_eu = [543,232,121,212]\n",
    "profit_jp = [543,221,121,211]"
   ]
  },
  {
   "cell_type": "code",
   "execution_count": 373,
   "id": "3f707f08",
   "metadata": {},
   "outputs": [],
   "source": [
    "sales_matrix = np.array([sales_us,sales_eu,sales_jp])"
   ]
  },
  {
   "cell_type": "code",
   "execution_count": 375,
   "id": "73bc712f",
   "metadata": {},
   "outputs": [
    {
     "data": {
      "text/plain": [
       "numpy.ndarray"
      ]
     },
     "execution_count": 375,
     "metadata": {},
     "output_type": "execute_result"
    }
   ],
   "source": [
    "type(sales_matrix)"
   ]
  },
  {
   "cell_type": "code",
   "execution_count": 377,
   "id": "235328f8",
   "metadata": {},
   "outputs": [],
   "source": [
    "profit_matrix = np.array([profit_us,profit_eu,profit_jp])"
   ]
  },
  {
   "cell_type": "code",
   "execution_count": 378,
   "id": "2626f48d",
   "metadata": {},
   "outputs": [
    {
     "data": {
      "text/plain": [
       "array([[421, 121, 323, 121],\n",
       "       [543, 232, 121, 212],\n",
       "       [543, 221, 121, 211]])"
      ]
     },
     "execution_count": 378,
     "metadata": {},
     "output_type": "execute_result"
    }
   ],
   "source": [
    "profit_matrix"
   ]
  },
  {
   "cell_type": "code",
   "execution_count": 379,
   "id": "df5f87a4",
   "metadata": {},
   "outputs": [
    {
     "data": {
      "text/plain": [
       "array([[3245, 3322, 1221, 3121],\n",
       "       [4322, 1212, 3232, 1211],\n",
       "       [5422, 1211, 1212, 2323]])"
      ]
     },
     "execution_count": 379,
     "metadata": {},
     "output_type": "execute_result"
    }
   ],
   "source": [
    "sales_matrix"
   ]
  },
  {
   "cell_type": "code",
   "execution_count": 380,
   "id": "de7e45f2",
   "metadata": {},
   "outputs": [
    {
     "data": {
      "text/plain": [
       "array([[0.12973806, 0.03642384, 0.26453726, 0.03876963],\n",
       "       [0.12563628, 0.19141914, 0.03743812, 0.17506193],\n",
       "       [0.10014755, 0.18249381, 0.09983498, 0.09083082]])"
      ]
     },
     "execution_count": 380,
     "metadata": {},
     "output_type": "execute_result"
    }
   ],
   "source": [
    "profit_matrix/sales_matrix"
   ]
  },
  {
   "cell_type": "code",
   "execution_count": 381,
   "id": "242ffda6",
   "metadata": {},
   "outputs": [
    {
     "data": {
      "text/plain": [
       "array([[3245, 3322, 1221, 3121],\n",
       "       [4322, 1212, 3232, 1211],\n",
       "       [5422, 1211, 1212, 2323]])"
      ]
     },
     "execution_count": 381,
     "metadata": {},
     "output_type": "execute_result"
    }
   ],
   "source": [
    "sales_matrix"
   ]
  },
  {
   "cell_type": "code",
   "execution_count": 382,
   "id": "ef584037",
   "metadata": {},
   "outputs": [
    {
     "data": {
      "text/plain": [
       "2587.8333333333335"
      ]
     },
     "execution_count": 382,
     "metadata": {},
     "output_type": "execute_result"
    }
   ],
   "source": [
    "np.average(sales_matrix)"
   ]
  },
  {
   "cell_type": "code",
   "execution_count": 383,
   "id": "5b54e7f7",
   "metadata": {},
   "outputs": [
    {
     "data": {
      "text/plain": [
       "array([2727.25, 2494.25, 2542.  ])"
      ]
     },
     "execution_count": 383,
     "metadata": {},
     "output_type": "execute_result"
    }
   ],
   "source": [
    "np.average(sales_matrix,axis=1)"
   ]
  },
  {
   "cell_type": "code",
   "execution_count": 384,
   "id": "a68199d6",
   "metadata": {},
   "outputs": [
    {
     "data": {
      "text/plain": [
       "array([4329.66666667, 1915.        , 1888.33333333, 2218.33333333])"
      ]
     },
     "execution_count": 384,
     "metadata": {},
     "output_type": "execute_result"
    }
   ],
   "source": [
    "np.average(sales_matrix,axis=0)"
   ]
  },
  {
   "cell_type": "code",
   "execution_count": 387,
   "id": "c29c5be7",
   "metadata": {},
   "outputs": [
    {
     "data": {
      "text/plain": [
       "array([[3245, 3322, 1221, 3121],\n",
       "       [4322, 1212, 3232, 1211],\n",
       "       [5422, 1211, 1212, 2323]])"
      ]
     },
     "execution_count": 387,
     "metadata": {},
     "output_type": "execute_result"
    }
   ],
   "source": [
    "sales_matrix"
   ]
  },
  {
   "cell_type": "code",
   "execution_count": 386,
   "id": "44bd7a7b",
   "metadata": {},
   "outputs": [
    {
     "data": {
      "text/plain": [
       "array([3322, 4322, 5422])"
      ]
     },
     "execution_count": 386,
     "metadata": {},
     "output_type": "execute_result"
    }
   ],
   "source": [
    "sales_matrix[np.where(sales_matrix>3300)]"
   ]
  },
  {
   "cell_type": "code",
   "execution_count": 388,
   "id": "9ec039a5",
   "metadata": {},
   "outputs": [
    {
     "data": {
      "text/plain": [
       "(array([0, 1, 2], dtype=int64), array([1, 0, 0], dtype=int64))"
      ]
     },
     "execution_count": 388,
     "metadata": {},
     "output_type": "execute_result"
    }
   ],
   "source": [
    "np.where(sales_matrix>3300)"
   ]
  },
  {
   "cell_type": "code",
   "execution_count": 389,
   "id": "6a842ecb",
   "metadata": {},
   "outputs": [
    {
     "data": {
      "text/plain": [
       "1212"
      ]
     },
     "execution_count": 389,
     "metadata": {},
     "output_type": "execute_result"
    }
   ],
   "source": [
    "sales_matrix[2,2]"
   ]
  },
  {
   "cell_type": "code",
   "execution_count": 390,
   "id": "feae75e2",
   "metadata": {},
   "outputs": [
    {
     "data": {
      "text/plain": [
       "array([[1212, 3232],\n",
       "       [1211, 1212]])"
      ]
     },
     "execution_count": 390,
     "metadata": {},
     "output_type": "execute_result"
    }
   ],
   "source": [
    "sales_matrix[1:3,1:3]"
   ]
  },
  {
   "cell_type": "code",
   "execution_count": 391,
   "id": "264e6b86",
   "metadata": {},
   "outputs": [],
   "source": [
    "#Pandas "
   ]
  },
  {
   "cell_type": "code",
   "execution_count": 392,
   "id": "e188b9a5",
   "metadata": {},
   "outputs": [],
   "source": [
    "import pandas as pd"
   ]
  },
  {
   "cell_type": "code",
   "execution_count": 393,
   "id": "2e6759f7",
   "metadata": {},
   "outputs": [
    {
     "data": {
      "text/plain": [
       "'1.3.4'"
      ]
     },
     "execution_count": 393,
     "metadata": {},
     "output_type": "execute_result"
    }
   ],
   "source": [
    "pd.__version__"
   ]
  },
  {
   "cell_type": "code",
   "execution_count": 394,
   "id": "c5794333",
   "metadata": {},
   "outputs": [
    {
     "data": {
      "text/plain": [
       "{'stu_id': [1, 2, 3, 4, 5],\n",
       " 'stu_name': ['a', 'b', 'c', 'd', 'e'],\n",
       " 'stu_region': ['N', 'S', 'W', 'E', 'W']}"
      ]
     },
     "execution_count": 394,
     "metadata": {},
     "output_type": "execute_result"
    }
   ],
   "source": [
    "stu_details "
   ]
  },
  {
   "cell_type": "code",
   "execution_count": 408,
   "id": "22efdc5f",
   "metadata": {},
   "outputs": [],
   "source": [
    "stu_marks = {'s_id':[1,2,3,4,6],\n",
    "            's_marks':[12,21,22,11,22],\n",
    "            's_sub':['Py','Tab','R','Py','R']}"
   ]
  },
  {
   "cell_type": "code",
   "execution_count": 409,
   "id": "4c66b168",
   "metadata": {},
   "outputs": [],
   "source": [
    "df1 = pd.DataFrame(stu_details)"
   ]
  },
  {
   "cell_type": "code",
   "execution_count": 410,
   "id": "0810d5ba",
   "metadata": {},
   "outputs": [],
   "source": [
    "df2 = pd.DataFrame(stu_marks)"
   ]
  },
  {
   "cell_type": "code",
   "execution_count": 411,
   "id": "5940d143",
   "metadata": {},
   "outputs": [
    {
     "data": {
      "text/html": [
       "<div>\n",
       "<style scoped>\n",
       "    .dataframe tbody tr th:only-of-type {\n",
       "        vertical-align: middle;\n",
       "    }\n",
       "\n",
       "    .dataframe tbody tr th {\n",
       "        vertical-align: top;\n",
       "    }\n",
       "\n",
       "    .dataframe thead th {\n",
       "        text-align: right;\n",
       "    }\n",
       "</style>\n",
       "<table border=\"1\" class=\"dataframe\">\n",
       "  <thead>\n",
       "    <tr style=\"text-align: right;\">\n",
       "      <th></th>\n",
       "      <th>stu_id</th>\n",
       "      <th>stu_name</th>\n",
       "      <th>stu_region</th>\n",
       "    </tr>\n",
       "  </thead>\n",
       "  <tbody>\n",
       "    <tr>\n",
       "      <th>0</th>\n",
       "      <td>1</td>\n",
       "      <td>a</td>\n",
       "      <td>N</td>\n",
       "    </tr>\n",
       "    <tr>\n",
       "      <th>1</th>\n",
       "      <td>2</td>\n",
       "      <td>b</td>\n",
       "      <td>S</td>\n",
       "    </tr>\n",
       "    <tr>\n",
       "      <th>2</th>\n",
       "      <td>3</td>\n",
       "      <td>c</td>\n",
       "      <td>W</td>\n",
       "    </tr>\n",
       "    <tr>\n",
       "      <th>3</th>\n",
       "      <td>4</td>\n",
       "      <td>d</td>\n",
       "      <td>E</td>\n",
       "    </tr>\n",
       "    <tr>\n",
       "      <th>4</th>\n",
       "      <td>5</td>\n",
       "      <td>e</td>\n",
       "      <td>W</td>\n",
       "    </tr>\n",
       "  </tbody>\n",
       "</table>\n",
       "</div>"
      ],
      "text/plain": [
       "   stu_id stu_name stu_region\n",
       "0       1        a          N\n",
       "1       2        b          S\n",
       "2       3        c          W\n",
       "3       4        d          E\n",
       "4       5        e          W"
      ]
     },
     "execution_count": 411,
     "metadata": {},
     "output_type": "execute_result"
    }
   ],
   "source": [
    "df1"
   ]
  },
  {
   "cell_type": "code",
   "execution_count": 412,
   "id": "d07bac4a",
   "metadata": {},
   "outputs": [
    {
     "data": {
      "text/html": [
       "<div>\n",
       "<style scoped>\n",
       "    .dataframe tbody tr th:only-of-type {\n",
       "        vertical-align: middle;\n",
       "    }\n",
       "\n",
       "    .dataframe tbody tr th {\n",
       "        vertical-align: top;\n",
       "    }\n",
       "\n",
       "    .dataframe thead th {\n",
       "        text-align: right;\n",
       "    }\n",
       "</style>\n",
       "<table border=\"1\" class=\"dataframe\">\n",
       "  <thead>\n",
       "    <tr style=\"text-align: right;\">\n",
       "      <th></th>\n",
       "      <th>s_id</th>\n",
       "      <th>s_marks</th>\n",
       "      <th>s_sub</th>\n",
       "    </tr>\n",
       "  </thead>\n",
       "  <tbody>\n",
       "    <tr>\n",
       "      <th>0</th>\n",
       "      <td>1</td>\n",
       "      <td>12</td>\n",
       "      <td>Py</td>\n",
       "    </tr>\n",
       "    <tr>\n",
       "      <th>1</th>\n",
       "      <td>2</td>\n",
       "      <td>21</td>\n",
       "      <td>Tab</td>\n",
       "    </tr>\n",
       "    <tr>\n",
       "      <th>2</th>\n",
       "      <td>3</td>\n",
       "      <td>22</td>\n",
       "      <td>R</td>\n",
       "    </tr>\n",
       "    <tr>\n",
       "      <th>3</th>\n",
       "      <td>4</td>\n",
       "      <td>11</td>\n",
       "      <td>Py</td>\n",
       "    </tr>\n",
       "    <tr>\n",
       "      <th>4</th>\n",
       "      <td>6</td>\n",
       "      <td>22</td>\n",
       "      <td>R</td>\n",
       "    </tr>\n",
       "  </tbody>\n",
       "</table>\n",
       "</div>"
      ],
      "text/plain": [
       "   s_id  s_marks s_sub\n",
       "0     1       12    Py\n",
       "1     2       21   Tab\n",
       "2     3       22     R\n",
       "3     4       11    Py\n",
       "4     6       22     R"
      ]
     },
     "execution_count": 412,
     "metadata": {},
     "output_type": "execute_result"
    }
   ],
   "source": [
    "df2"
   ]
  },
  {
   "cell_type": "code",
   "execution_count": 417,
   "id": "266a5bee",
   "metadata": {},
   "outputs": [
    {
     "data": {
      "text/html": [
       "<div>\n",
       "<style scoped>\n",
       "    .dataframe tbody tr th:only-of-type {\n",
       "        vertical-align: middle;\n",
       "    }\n",
       "\n",
       "    .dataframe tbody tr th {\n",
       "        vertical-align: top;\n",
       "    }\n",
       "\n",
       "    .dataframe thead th {\n",
       "        text-align: right;\n",
       "    }\n",
       "</style>\n",
       "<table border=\"1\" class=\"dataframe\">\n",
       "  <thead>\n",
       "    <tr style=\"text-align: right;\">\n",
       "      <th></th>\n",
       "      <th>stu_id</th>\n",
       "      <th>stu_name</th>\n",
       "      <th>stu_region</th>\n",
       "      <th>s_id</th>\n",
       "      <th>s_marks</th>\n",
       "      <th>s_sub</th>\n",
       "    </tr>\n",
       "  </thead>\n",
       "  <tbody>\n",
       "    <tr>\n",
       "      <th>0</th>\n",
       "      <td>1.0</td>\n",
       "      <td>a</td>\n",
       "      <td>N</td>\n",
       "      <td>1.0</td>\n",
       "      <td>12.0</td>\n",
       "      <td>Py</td>\n",
       "    </tr>\n",
       "    <tr>\n",
       "      <th>1</th>\n",
       "      <td>2.0</td>\n",
       "      <td>b</td>\n",
       "      <td>S</td>\n",
       "      <td>2.0</td>\n",
       "      <td>21.0</td>\n",
       "      <td>Tab</td>\n",
       "    </tr>\n",
       "    <tr>\n",
       "      <th>2</th>\n",
       "      <td>3.0</td>\n",
       "      <td>c</td>\n",
       "      <td>W</td>\n",
       "      <td>3.0</td>\n",
       "      <td>22.0</td>\n",
       "      <td>R</td>\n",
       "    </tr>\n",
       "    <tr>\n",
       "      <th>3</th>\n",
       "      <td>4.0</td>\n",
       "      <td>d</td>\n",
       "      <td>E</td>\n",
       "      <td>4.0</td>\n",
       "      <td>11.0</td>\n",
       "      <td>Py</td>\n",
       "    </tr>\n",
       "    <tr>\n",
       "      <th>4</th>\n",
       "      <td>5.0</td>\n",
       "      <td>e</td>\n",
       "      <td>W</td>\n",
       "      <td>NaN</td>\n",
       "      <td>NaN</td>\n",
       "      <td>NaN</td>\n",
       "    </tr>\n",
       "    <tr>\n",
       "      <th>5</th>\n",
       "      <td>NaN</td>\n",
       "      <td>NaN</td>\n",
       "      <td>NaN</td>\n",
       "      <td>6.0</td>\n",
       "      <td>22.0</td>\n",
       "      <td>R</td>\n",
       "    </tr>\n",
       "  </tbody>\n",
       "</table>\n",
       "</div>"
      ],
      "text/plain": [
       "   stu_id stu_name stu_region  s_id  s_marks s_sub\n",
       "0     1.0        a          N   1.0     12.0    Py\n",
       "1     2.0        b          S   2.0     21.0   Tab\n",
       "2     3.0        c          W   3.0     22.0     R\n",
       "3     4.0        d          E   4.0     11.0    Py\n",
       "4     5.0        e          W   NaN      NaN   NaN\n",
       "5     NaN      NaN        NaN   6.0     22.0     R"
      ]
     },
     "execution_count": 417,
     "metadata": {},
     "output_type": "execute_result"
    }
   ],
   "source": [
    "pd.merge(pd.merge(df1,df2,left_on='stu_id',right_on='s_id',how='outer'),df3, left_on=,right_on=,how=)"
   ]
  },
  {
   "cell_type": "code",
   "execution_count": 418,
   "id": "0094c8a3",
   "metadata": {},
   "outputs": [
    {
     "data": {
      "text/html": [
       "<div>\n",
       "<style scoped>\n",
       "    .dataframe tbody tr th:only-of-type {\n",
       "        vertical-align: middle;\n",
       "    }\n",
       "\n",
       "    .dataframe tbody tr th {\n",
       "        vertical-align: top;\n",
       "    }\n",
       "\n",
       "    .dataframe thead th {\n",
       "        text-align: right;\n",
       "    }\n",
       "</style>\n",
       "<table border=\"1\" class=\"dataframe\">\n",
       "  <thead>\n",
       "    <tr style=\"text-align: right;\">\n",
       "      <th></th>\n",
       "      <th>stu_id</th>\n",
       "      <th>stu_name</th>\n",
       "      <th>stu_region</th>\n",
       "    </tr>\n",
       "  </thead>\n",
       "  <tbody>\n",
       "    <tr>\n",
       "      <th>0</th>\n",
       "      <td>1</td>\n",
       "      <td>a</td>\n",
       "      <td>N</td>\n",
       "    </tr>\n",
       "    <tr>\n",
       "      <th>1</th>\n",
       "      <td>2</td>\n",
       "      <td>b</td>\n",
       "      <td>S</td>\n",
       "    </tr>\n",
       "    <tr>\n",
       "      <th>2</th>\n",
       "      <td>3</td>\n",
       "      <td>c</td>\n",
       "      <td>W</td>\n",
       "    </tr>\n",
       "    <tr>\n",
       "      <th>3</th>\n",
       "      <td>4</td>\n",
       "      <td>d</td>\n",
       "      <td>E</td>\n",
       "    </tr>\n",
       "    <tr>\n",
       "      <th>4</th>\n",
       "      <td>5</td>\n",
       "      <td>e</td>\n",
       "      <td>W</td>\n",
       "    </tr>\n",
       "  </tbody>\n",
       "</table>\n",
       "</div>"
      ],
      "text/plain": [
       "   stu_id stu_name stu_region\n",
       "0       1        a          N\n",
       "1       2        b          S\n",
       "2       3        c          W\n",
       "3       4        d          E\n",
       "4       5        e          W"
      ]
     },
     "execution_count": 418,
     "metadata": {},
     "output_type": "execute_result"
    }
   ],
   "source": [
    "df1"
   ]
  },
  {
   "cell_type": "code",
   "execution_count": 420,
   "id": "4bcdb5de",
   "metadata": {},
   "outputs": [],
   "source": [
    "#Dictionaries\n",
    "stu_details_Ind = {'stu_id':[1,2,3,4,5], 'stu_name':['A','B','C','D','E'], 'stu_region':['N_IN','S_IN','E_IN','W_IN','W_IN'] }"
   ]
  },
  {
   "cell_type": "code",
   "execution_count": 421,
   "id": "a189caad",
   "metadata": {},
   "outputs": [],
   "source": [
    "stu_details_US = {'stu_id':[6,7,8,9,5], 'stu_name':['P','Q','R','S','E'], 'stu_region':['N_US','S_US','E_US','W_US','W_IN'] }"
   ]
  },
  {
   "cell_type": "code",
   "execution_count": 423,
   "id": "2277a769",
   "metadata": {},
   "outputs": [],
   "source": [
    "df_in = pd.DataFrame(stu_details_Ind)"
   ]
  },
  {
   "cell_type": "code",
   "execution_count": 424,
   "id": "2e3ab93e",
   "metadata": {},
   "outputs": [],
   "source": [
    "df_us = pd.DataFrame(stu_details_US)"
   ]
  },
  {
   "cell_type": "code",
   "execution_count": 425,
   "id": "d3146127",
   "metadata": {},
   "outputs": [
    {
     "data": {
      "text/html": [
       "<div>\n",
       "<style scoped>\n",
       "    .dataframe tbody tr th:only-of-type {\n",
       "        vertical-align: middle;\n",
       "    }\n",
       "\n",
       "    .dataframe tbody tr th {\n",
       "        vertical-align: top;\n",
       "    }\n",
       "\n",
       "    .dataframe thead th {\n",
       "        text-align: right;\n",
       "    }\n",
       "</style>\n",
       "<table border=\"1\" class=\"dataframe\">\n",
       "  <thead>\n",
       "    <tr style=\"text-align: right;\">\n",
       "      <th></th>\n",
       "      <th>stu_id</th>\n",
       "      <th>stu_name</th>\n",
       "      <th>stu_region</th>\n",
       "    </tr>\n",
       "  </thead>\n",
       "  <tbody>\n",
       "    <tr>\n",
       "      <th>0</th>\n",
       "      <td>1</td>\n",
       "      <td>A</td>\n",
       "      <td>N_IN</td>\n",
       "    </tr>\n",
       "    <tr>\n",
       "      <th>1</th>\n",
       "      <td>2</td>\n",
       "      <td>B</td>\n",
       "      <td>S_IN</td>\n",
       "    </tr>\n",
       "    <tr>\n",
       "      <th>2</th>\n",
       "      <td>3</td>\n",
       "      <td>C</td>\n",
       "      <td>E_IN</td>\n",
       "    </tr>\n",
       "    <tr>\n",
       "      <th>3</th>\n",
       "      <td>4</td>\n",
       "      <td>D</td>\n",
       "      <td>W_IN</td>\n",
       "    </tr>\n",
       "    <tr>\n",
       "      <th>4</th>\n",
       "      <td>5</td>\n",
       "      <td>E</td>\n",
       "      <td>W_IN</td>\n",
       "    </tr>\n",
       "  </tbody>\n",
       "</table>\n",
       "</div>"
      ],
      "text/plain": [
       "   stu_id stu_name stu_region\n",
       "0       1        A       N_IN\n",
       "1       2        B       S_IN\n",
       "2       3        C       E_IN\n",
       "3       4        D       W_IN\n",
       "4       5        E       W_IN"
      ]
     },
     "execution_count": 425,
     "metadata": {},
     "output_type": "execute_result"
    }
   ],
   "source": [
    "df_in"
   ]
  },
  {
   "cell_type": "code",
   "execution_count": 426,
   "id": "f82862a5",
   "metadata": {},
   "outputs": [
    {
     "data": {
      "text/html": [
       "<div>\n",
       "<style scoped>\n",
       "    .dataframe tbody tr th:only-of-type {\n",
       "        vertical-align: middle;\n",
       "    }\n",
       "\n",
       "    .dataframe tbody tr th {\n",
       "        vertical-align: top;\n",
       "    }\n",
       "\n",
       "    .dataframe thead th {\n",
       "        text-align: right;\n",
       "    }\n",
       "</style>\n",
       "<table border=\"1\" class=\"dataframe\">\n",
       "  <thead>\n",
       "    <tr style=\"text-align: right;\">\n",
       "      <th></th>\n",
       "      <th>stu_id</th>\n",
       "      <th>stu_name</th>\n",
       "      <th>stu_region</th>\n",
       "    </tr>\n",
       "  </thead>\n",
       "  <tbody>\n",
       "    <tr>\n",
       "      <th>0</th>\n",
       "      <td>6</td>\n",
       "      <td>P</td>\n",
       "      <td>N_US</td>\n",
       "    </tr>\n",
       "    <tr>\n",
       "      <th>1</th>\n",
       "      <td>7</td>\n",
       "      <td>Q</td>\n",
       "      <td>S_US</td>\n",
       "    </tr>\n",
       "    <tr>\n",
       "      <th>2</th>\n",
       "      <td>8</td>\n",
       "      <td>R</td>\n",
       "      <td>E_US</td>\n",
       "    </tr>\n",
       "    <tr>\n",
       "      <th>3</th>\n",
       "      <td>9</td>\n",
       "      <td>S</td>\n",
       "      <td>W_US</td>\n",
       "    </tr>\n",
       "    <tr>\n",
       "      <th>4</th>\n",
       "      <td>5</td>\n",
       "      <td>E</td>\n",
       "      <td>W_IN</td>\n",
       "    </tr>\n",
       "  </tbody>\n",
       "</table>\n",
       "</div>"
      ],
      "text/plain": [
       "   stu_id stu_name stu_region\n",
       "0       6        P       N_US\n",
       "1       7        Q       S_US\n",
       "2       8        R       E_US\n",
       "3       9        S       W_US\n",
       "4       5        E       W_IN"
      ]
     },
     "execution_count": 426,
     "metadata": {},
     "output_type": "execute_result"
    }
   ],
   "source": [
    "df_us"
   ]
  },
  {
   "cell_type": "code",
   "execution_count": 430,
   "id": "c1de5331",
   "metadata": {},
   "outputs": [
    {
     "data": {
      "text/html": [
       "<div>\n",
       "<style scoped>\n",
       "    .dataframe tbody tr th:only-of-type {\n",
       "        vertical-align: middle;\n",
       "    }\n",
       "\n",
       "    .dataframe tbody tr th {\n",
       "        vertical-align: top;\n",
       "    }\n",
       "\n",
       "    .dataframe thead th {\n",
       "        text-align: right;\n",
       "    }\n",
       "</style>\n",
       "<table border=\"1\" class=\"dataframe\">\n",
       "  <thead>\n",
       "    <tr style=\"text-align: right;\">\n",
       "      <th></th>\n",
       "      <th>stu_id</th>\n",
       "      <th>stu_name</th>\n",
       "      <th>stu_region</th>\n",
       "    </tr>\n",
       "  </thead>\n",
       "  <tbody>\n",
       "    <tr>\n",
       "      <th>0</th>\n",
       "      <td>1</td>\n",
       "      <td>A</td>\n",
       "      <td>N_IN</td>\n",
       "    </tr>\n",
       "    <tr>\n",
       "      <th>1</th>\n",
       "      <td>2</td>\n",
       "      <td>B</td>\n",
       "      <td>S_IN</td>\n",
       "    </tr>\n",
       "    <tr>\n",
       "      <th>2</th>\n",
       "      <td>3</td>\n",
       "      <td>C</td>\n",
       "      <td>E_IN</td>\n",
       "    </tr>\n",
       "    <tr>\n",
       "      <th>3</th>\n",
       "      <td>4</td>\n",
       "      <td>D</td>\n",
       "      <td>W_IN</td>\n",
       "    </tr>\n",
       "    <tr>\n",
       "      <th>4</th>\n",
       "      <td>5</td>\n",
       "      <td>E</td>\n",
       "      <td>W_IN</td>\n",
       "    </tr>\n",
       "    <tr>\n",
       "      <th>5</th>\n",
       "      <td>6</td>\n",
       "      <td>P</td>\n",
       "      <td>N_US</td>\n",
       "    </tr>\n",
       "    <tr>\n",
       "      <th>6</th>\n",
       "      <td>7</td>\n",
       "      <td>Q</td>\n",
       "      <td>S_US</td>\n",
       "    </tr>\n",
       "    <tr>\n",
       "      <th>7</th>\n",
       "      <td>8</td>\n",
       "      <td>R</td>\n",
       "      <td>E_US</td>\n",
       "    </tr>\n",
       "    <tr>\n",
       "      <th>8</th>\n",
       "      <td>9</td>\n",
       "      <td>S</td>\n",
       "      <td>W_US</td>\n",
       "    </tr>\n",
       "  </tbody>\n",
       "</table>\n",
       "</div>"
      ],
      "text/plain": [
       "   stu_id stu_name stu_region\n",
       "0       1        A       N_IN\n",
       "1       2        B       S_IN\n",
       "2       3        C       E_IN\n",
       "3       4        D       W_IN\n",
       "4       5        E       W_IN\n",
       "5       6        P       N_US\n",
       "6       7        Q       S_US\n",
       "7       8        R       E_US\n",
       "8       9        S       W_US"
      ]
     },
     "execution_count": 430,
     "metadata": {},
     "output_type": "execute_result"
    }
   ],
   "source": [
    "pd.concat([df_in,df_us]).reset_index().drop(columns='index').drop_duplicates()"
   ]
  },
  {
   "cell_type": "code",
   "execution_count": 436,
   "id": "bef00366",
   "metadata": {},
   "outputs": [
    {
     "data": {
      "text/html": [
       "<div>\n",
       "<style scoped>\n",
       "    .dataframe tbody tr th:only-of-type {\n",
       "        vertical-align: middle;\n",
       "    }\n",
       "\n",
       "    .dataframe tbody tr th {\n",
       "        vertical-align: top;\n",
       "    }\n",
       "\n",
       "    .dataframe thead th {\n",
       "        text-align: right;\n",
       "    }\n",
       "</style>\n",
       "<table border=\"1\" class=\"dataframe\">\n",
       "  <thead>\n",
       "    <tr style=\"text-align: right;\">\n",
       "      <th></th>\n",
       "      <th>stu_id</th>\n",
       "      <th>stu_name</th>\n",
       "      <th>stu_region</th>\n",
       "    </tr>\n",
       "  </thead>\n",
       "  <tbody>\n",
       "    <tr>\n",
       "      <th>0</th>\n",
       "      <td>1</td>\n",
       "      <td>A</td>\n",
       "      <td>N_IN</td>\n",
       "    </tr>\n",
       "    <tr>\n",
       "      <th>1</th>\n",
       "      <td>2</td>\n",
       "      <td>B</td>\n",
       "      <td>S_IN</td>\n",
       "    </tr>\n",
       "    <tr>\n",
       "      <th>2</th>\n",
       "      <td>3</td>\n",
       "      <td>C</td>\n",
       "      <td>E_IN</td>\n",
       "    </tr>\n",
       "    <tr>\n",
       "      <th>3</th>\n",
       "      <td>4</td>\n",
       "      <td>D</td>\n",
       "      <td>W_IN</td>\n",
       "    </tr>\n",
       "    <tr>\n",
       "      <th>4</th>\n",
       "      <td>5</td>\n",
       "      <td>E</td>\n",
       "      <td>W_IN</td>\n",
       "    </tr>\n",
       "    <tr>\n",
       "      <th>5</th>\n",
       "      <td>6</td>\n",
       "      <td>P</td>\n",
       "      <td>N_US</td>\n",
       "    </tr>\n",
       "    <tr>\n",
       "      <th>6</th>\n",
       "      <td>7</td>\n",
       "      <td>Q</td>\n",
       "      <td>S_US</td>\n",
       "    </tr>\n",
       "    <tr>\n",
       "      <th>7</th>\n",
       "      <td>8</td>\n",
       "      <td>R</td>\n",
       "      <td>E_US</td>\n",
       "    </tr>\n",
       "    <tr>\n",
       "      <th>8</th>\n",
       "      <td>9</td>\n",
       "      <td>S</td>\n",
       "      <td>W_US</td>\n",
       "    </tr>\n",
       "  </tbody>\n",
       "</table>\n",
       "</div>"
      ],
      "text/plain": [
       "   stu_id stu_name stu_region\n",
       "0       1        A       N_IN\n",
       "1       2        B       S_IN\n",
       "2       3        C       E_IN\n",
       "3       4        D       W_IN\n",
       "4       5        E       W_IN\n",
       "5       6        P       N_US\n",
       "6       7        Q       S_US\n",
       "7       8        R       E_US\n",
       "8       9        S       W_US"
      ]
     },
     "execution_count": 436,
     "metadata": {},
     "output_type": "execute_result"
    }
   ],
   "source": [
    "pd.concat([df_in,df_us],axis=0).reset_index().drop(columns='index').drop_duplicates()"
   ]
  },
  {
   "cell_type": "code",
   "execution_count": null,
   "id": "2c44866b",
   "metadata": {},
   "outputs": [],
   "source": []
  }
 ],
 "metadata": {
  "kernelspec": {
   "display_name": "Python 3 (ipykernel)",
   "language": "python",
   "name": "python3"
  },
  "language_info": {
   "codemirror_mode": {
    "name": "ipython",
    "version": 3
   },
   "file_extension": ".py",
   "mimetype": "text/x-python",
   "name": "python",
   "nbconvert_exporter": "python",
   "pygments_lexer": "ipython3",
   "version": "3.9.7"
  }
 },
 "nbformat": 4,
 "nbformat_minor": 5
}
